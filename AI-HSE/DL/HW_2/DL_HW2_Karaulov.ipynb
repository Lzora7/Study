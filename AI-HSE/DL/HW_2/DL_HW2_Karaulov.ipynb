{
 "cells": [
  {
   "cell_type": "markdown",
   "metadata": {
    "id": "w35Q6hOIy4sk",
    "pycharm": {
     "name": "#%% md\n"
    }
   },
   "source": [
    "# Глубинное обучение, ИИ ВШЭ\n",
    "\n",
    "## Домашнее задание 2. Классификация при помощи CNN. \n",
    "\n",
    "### Общая информация\n",
    "\n",
    "### Оценивание и штрафы\n",
    "\n",
    "Максимально допустимая оценка за работу без бонусов — 10 баллов. Сдавать задание после указанного срока жесткого дедлайна нельзя.\n",
    "\n",
    "Сдача работы после мягкого дедлайна штрафуется ступенчато, -1 балл в сутки. Один раз за модуль студентам предоставляется возможность использовать отсрочку и сдать в жесткий дедлайн без штрафа.\n",
    "\n",
    "Задание выполняется самостоятельно. «Похожие» решения считаются плагиатом и все задействованные студенты (в том числе те, у кого списали) не могут получить за него больше 0 баллов. Если вы нашли решение какого-то из заданий (или его часть) в открытом источнике, необходимо указать ссылку на этот источник в отдельном блоке в конце вашей работы (скорее всего вы будете не единственным, кто это нашел, поэтому чтобы исключить подозрение в плагиате, необходима ссылка на источник).\n",
    "\n",
    "Неэффективная реализация кода может негативно отразиться на оценке. Также оценка может быть снижена за плохо читаемый код и плохо оформленные графики. Все ответы должны сопровождаться кодом или комментариями о том, как они были получены.\n",
    "\n",
    "Использование генеративных моделей допустимо на следующих условиях:\n",
    "- Количество кода, написанное генеративными моделями, не превышает 30%\n",
    "- Указана модель, использованная для генерации, а также промпт\n",
    "- В конце работы необходимо описать свой опыт использования генеративного ИИ для решения данного домашнего задания. Укажите как часто Вам приходилось исправлять код своими руками или просить модель что-то исправить. Было ли это быстрее, чем написать код самим? \n",
    "\n",
    "В случае невыполнения этих требований работа не оценивается и оценка за неё не превышает 0 баллов.\n",
    "\n",
    "### О задании\n",
    "\n",
    "В этом задании вам предстоит познакомиться со сверточными сетями и их обучением для классификации изображений с использованием библиотеки PyTorch.\n"
   ]
  },
  {
   "cell_type": "code",
   "execution_count": 1,
   "metadata": {
    "id": "SaACifdX2QOo",
    "pycharm": {
     "name": "#%%\n"
    }
   },
   "outputs": [],
   "source": [
    "import matplotlib.pyplot as plt\n",
    "import numpy as np\n",
    "import torch\n",
    "import torch.nn as nn\n",
    "import torch.nn.functional as F\n",
    "import torch.optim as optim\n",
    "import torchvision\n",
    "import torchvision.transforms as transforms\n",
    "from sklearn.model_selection import train_test_split"
   ]
  },
  {
   "cell_type": "markdown",
   "metadata": {
    "id": "TIXaUYM-0JFl",
    "pycharm": {
     "name": "#%% md\n"
    }
   },
   "source": [
    "## 0. Загрузка данных\n",
    "\n",
    "Работать мы будем с набором данных [CIFAR10](https://www.cs.toronto.edu/~kriz/cifar.html). CIFAR10 представляет собой набор изображений 32х32 пикселя, разделенных на 10 классов.\n",
    "\n",
    "![title](https://pytorch.org/tutorials/_images/cifar10.png)\n",
    "\n",
    "\n"
   ]
  },
  {
   "cell_type": "markdown",
   "metadata": {
    "id": "g-0EEjl_10vB",
    "pycharm": {
     "name": "#%% md\n"
    }
   },
   "source": [
    "Набор данных уже определен в <code>torchvision.datasets</code>, так что возьмем его оттуда. \n",
    "\n"
   ]
  },
  {
   "cell_type": "code",
   "execution_count": 2,
   "metadata": {
    "id": "Cbwe92dT3aPZ",
    "pycharm": {
     "name": "#%%\n"
    }
   },
   "outputs": [],
   "source": [
    "# Для тру нормализации\n",
    "# mean = [0.4914, 0.4822, 0.4465]\n",
    "# std = [0.2470, 0.2435, 0.2616]\n",
    "# Тут взяты значения как в одном из туториалов пайторча :)\n",
    "\n",
    "\n",
    "def get_cifar10_data(batch_size, transform_train):\n",
    "    torch.manual_seed(0)\n",
    "    np.random.seed(0)\n",
    "\n",
    "    transform_test = transforms.Compose(\n",
    "        [\n",
    "            transforms.ToTensor(),\n",
    "            # Переводим цвета пикселей в отрезок [-1, 1]\n",
    "            transforms.Normalize((0.5, 0.5, 0.5), (0.5, 0.5, 0.5)),\n",
    "        ]\n",
    "    )\n",
    "\n",
    "    # Загружаем данные\n",
    "    trainvalset = torchvision.datasets.CIFAR10(\n",
    "        root=\"./data\", train=True, download=True, transform=transform_train\n",
    "    )\n",
    "    testset = torchvision.datasets.CIFAR10(\n",
    "        root=\"./data\", train=False, download=True, transform=transform_test\n",
    "    )\n",
    "\n",
    "    # В датасете определено разбиение только на train и test,\n",
    "    # так что валидацию дополнительно выделяем из обучающей выборки\n",
    "    train_idx, valid_idx = train_test_split(\n",
    "        np.arange(len(trainvalset)), test_size=0.3, shuffle=True, random_state=0\n",
    "    )\n",
    "    trainset = torch.utils.data.Subset(trainvalset, train_idx)\n",
    "    valset = torch.utils.data.Subset(trainvalset, valid_idx)\n",
    "\n",
    "    # конечные loader-ы\n",
    "    train_loader = torch.utils.data.DataLoader(\n",
    "        trainset, batch_size=batch_size, shuffle=True, num_workers=2\n",
    "    )\n",
    "    val_loader = torch.utils.data.DataLoader(\n",
    "        valset, batch_size=batch_size, shuffle=False, num_workers=2\n",
    "    )\n",
    "    test_loader = torch.utils.data.DataLoader(\n",
    "        testset, batch_size=batch_size, shuffle=False, num_workers=2\n",
    "    )\n",
    "\n",
    "    return train_loader, val_loader, test_loader"
   ]
  },
  {
   "cell_type": "code",
   "execution_count": 3,
   "metadata": {
    "colab": {
     "base_uri": "https://localhost:8080/",
     "height": 101,
     "referenced_widgets": [
      "aa9da821ba0c42b5b051355e50e691f0",
      "95c5696493db48738dbdc9940acec1d8",
      "fe515a1f743f49d0b251b43919d52a8e",
      "f4f339c969fd4e21bc683ecb2567897b",
      "17b2be81159e41f1a5c6bb966516572e",
      "22bb21a6c57a413fb7374efe31349e6e",
      "18b20091dbf64b129824a8fb3266e3c0",
      "9bad0d6a00c14229b0d776a2cfe15090",
      "0fee9f5b7bdb4129a71ef0cfe9d3b1fa",
      "cd991379661b4b4ab405bf66f75c6834",
      "7d238166caf64537ad9aa2040dcdc1ec"
     ]
    },
    "id": "2G2rLnN5y6Jj",
    "outputId": "542c91e6-44f6-4e26-f1e8-5df3b83fd044",
    "pycharm": {
     "name": "#%%\n"
    }
   },
   "outputs": [],
   "source": [
    "transform = transforms.Compose(\n",
    "    [transforms.ToTensor(), transforms.Normalize((0.5, 0.5, 0.5), (0.5, 0.5, 0.5))]\n",
    ")\n",
    "\n",
    "train_loader, val_loader, test_loader = get_cifar10_data(\n",
    "    batch_size=64, transform_train=transform\n",
    ")"
   ]
  },
  {
   "cell_type": "markdown",
   "metadata": {
    "id": "-82HWgXs77W1",
    "pycharm": {
     "name": "#%% md\n"
    }
   },
   "source": [
    "Посмотрим на изображения:"
   ]
  },
  {
   "cell_type": "code",
   "execution_count": 4,
   "metadata": {
    "colab": {
     "base_uri": "https://localhost:8080/",
     "height": 155
    },
    "id": "ACnwaC5iy6L2",
    "outputId": "fd2fc631-ea7b-45f2-9728-eb1c5f9e683c",
    "pycharm": {
     "name": "#%%\n"
    }
   },
   "outputs": [
    {
     "data": {
      "image/png": "[encoded data removed]",
      "text/plain": [
       "<Figure size 640x480 with 1 Axes>"
      ]
     },
     "metadata": {},
     "output_type": "display_data"
    },
    {
     "name": "stdout",
     "output_type": "stream",
     "text": [
      "ship frog horse horse\n"
     ]
    }
   ],
   "source": [
    "def imshow(img):\n",
    "    img = img / 2 + 0.5\n",
    "    npimg = img.numpy()\n",
    "    plt.imshow(np.transpose(npimg, (1, 2, 0)))\n",
    "    plt.show()\n",
    "\n",
    "\n",
    "dataiter = iter(train_loader)\n",
    "images, labels = next(dataiter)\n",
    "\n",
    "imshow(torchvision.utils.make_grid(images[:4]))\n",
    "\n",
    "classes = (\n",
    "    \"plane\",\n",
    "    \"car\",\n",
    "    \"bird\",\n",
    "    \"cat\",\n",
    "    \"deer\",\n",
    "    \"dog\",\n",
    "    \"frog\",\n",
    "    \"horse\",\n",
    "    \"ship\",\n",
    "    \"truck\",\n",
    ")\n",
    "print(*[classes[labels[i]] for i in range(4)])"
   ]
  },
  {
   "cell_type": "markdown",
   "metadata": {
    "id": "KFDilng29YZ_",
    "pycharm": {
     "name": "#%% md\n"
    }
   },
   "source": [
    "## 1. Задание сверточной сети (3 балла)"
   ]
  },
  {
   "cell_type": "markdown",
   "metadata": {
    "id": "OX7Ul8YbYdQR",
    "pycharm": {
     "name": "#%% md\n"
    }
   },
   "source": [
    "Теперь нам нужно задать сверточную нейронную сеть, которую мы будем обучать классифицировать изображения.\n",
    "\n",
    "Используем сеть, основанную на одном блоке архитектуры, похожей на ResNet. Обратите внимание, это не ResNet 1 в 1.\n",
    "\n",
    "<img src=\"https://i.ibb.co/2hg962h/basic-block.png\" width=\"500\"/>\n",
    "\n",
    "__Указания:__\n",
    "\n",
    "- Все сверточные слои должны иметь 32 выходных канала, а также не должны изменять ширину и высоту изображения.\n",
    "- Выход блока сократите до размерности 32х4х4, применив average pooling.\n",
    "- Для получения итоговых логитов, распрямите выход пулинга в вектор из 512 элементов, а затем пропустите его через линейный слой."
   ]
  },
  {
   "cell_type": "markdown",
   "metadata": {
    "id": "sbyIylT9O9Dr",
    "pycharm": {
     "name": "#%% md\n"
    }
   },
   "source": [
    "**Задание 1.1 (3 балла).**\n",
    "\n",
    "Определите архитектуру сети соответственно схеме и указаниям выше.\n",
    "\n",
    "Ключевые слова: <code>Conv2d</code>, <code>BatchNorm2d</code>, <code>AvgPool2d</code>."
   ]
  },
  {
   "cell_type": "code",
   "execution_count": null,
   "metadata": {
    "id": "s9ml1QGKy6N9",
    "pycharm": {
     "name": "#%%\n"
    }
   },
   "outputs": [],
   "source": [
    "n_classes = 10\n",
    "in_channels = 3\n",
    "\n",
    "class BasicBlockNet(nn.Module):\n",
    "    def __init__(self):\n",
    "        super().__init__()\n",
    "\n",
    "        # основной блок\n",
    "        self.block = nn.Sequential(\n",
    "            nn.Conv2d(in_channels, 32, kernel_size=3, padding=1),\n",
    "            nn.BatchNorm2d(32),\n",
    "            nn.ReLU(),\n",
    "            nn.Conv2d(32, 32, kernel_size=3, padding=1),\n",
    "            nn.BatchNorm2d(32)\n",
    "            )\n",
    "        \n",
    "        # параллельный\n",
    "        self.paralel = nn.Conv2d(in_channels, 32, kernel_size=1)\n",
    "\n",
    "        # avgpool\n",
    "        self.avgpool = nn.AdaptiveAvgPool2d((4,4))\n",
    "        # fc\n",
    "        self.fc = nn.Linear(32*4*4, n_classes)\n",
    "\n",
    "    def forward(self, x):\n",
    "        block_out = self.block(x)\n",
    "        paralel_out = self.paralel(x)\n",
    "        out = F.relu(block_out + paralel_out)\n",
    "        out = self.avgpool(out)\n",
    "        out = out.view(out.size(0), -1)  # вектор\n",
    "        out = self.fc(out)\n",
    "\n",
    "        return out"
   ]
  },
  {
   "cell_type": "code",
   "execution_count": 8,
   "metadata": {
    "id": "FI4BQg7Ky6Pw",
    "pycharm": {
     "name": "#%%\n"
    }
   },
   "outputs": [
    {
     "data": {
      "text/plain": [
       "BasicBlockNet(\n",
       "  (block): Sequential(\n",
       "    (0): Conv2d(3, 32, kernel_size=(3, 3), stride=(1, 1), padding=(1, 1))\n",
       "    (1): BatchNorm2d(32, eps=1e-05, momentum=0.1, affine=True, track_running_stats=True)\n",
       "    (2): ReLU()\n",
       "    (3): Conv2d(32, 32, kernel_size=(3, 3), stride=(1, 1), padding=(1, 1))\n",
       "    (4): BatchNorm2d(32, eps=1e-05, momentum=0.1, affine=True, track_running_stats=True)\n",
       "  )\n",
       "  (paralel): Conv2d(3, 32, kernel_size=(1, 1), stride=(1, 1))\n",
       "  (avgpool): AdaptiveAvgPool2d(output_size=(4, 4))\n",
       "  (fc): Linear(in_features=512, out_features=10, bias=True)\n",
       ")"
      ]
     },
     "execution_count": 8,
     "metadata": {},
     "output_type": "execute_result"
    }
   ],
   "source": [
    "net = BasicBlockNet()\n",
    "net"
   ]
  },
  {
   "cell_type": "markdown",
   "metadata": {
    "id": "igPoGZEub8d3",
    "pycharm": {
     "name": "#%% md\n"
    }
   },
   "source": [
    "Проверим, что выход сети имеет корректную размерность:"
   ]
  },
  {
   "cell_type": "code",
   "execution_count": 9,
   "metadata": {
    "id": "cCIzFUpJ_Agw",
    "pycharm": {
     "name": "#%%\n"
    }
   },
   "outputs": [],
   "source": [
    "assert net(torch.zeros((10, 3, 32, 32))).shape == (10, 10)"
   ]
  },
  {
   "cell_type": "markdown",
   "metadata": {
    "id": "08osX622cDGz",
    "pycharm": {
     "name": "#%% md\n"
    }
   },
   "source": [
    "Чтобы проводить вычисления на GPU, в PyTorch необходимо руками перекладывать объекты, с которыми вы хотите проводить вычисления, на графический ускоритель. Это делается следующим образрм:"
   ]
  },
  {
   "cell_type": "code",
   "execution_count": 9,
   "metadata": {
    "id": "56hDOMCFcDZX",
    "pycharm": {
     "name": "#%%\n"
    }
   },
   "outputs": [
    {
     "name": "stdout",
     "output_type": "stream",
     "text": [
      "mps\n"
     ]
    }
   ],
   "source": [
    "device = torch.device(\"mps\")\n",
    "print(device)"
   ]
  },
  {
   "cell_type": "code",
   "execution_count": 11,
   "metadata": {
    "id": "ohnDWbp0qbtC",
    "pycharm": {
     "name": "#%%\n"
    }
   },
   "outputs": [],
   "source": [
    "net = net.to(device)"
   ]
  },
  {
   "cell_type": "markdown",
   "metadata": {
    "id": "H_bOlTVUp5QF",
    "pycharm": {
     "name": "#%% md\n"
    }
   },
   "source": [
    "Подключение GPU в google.colab:\n",
    "\n",
    "**Среда выполнения** -> **Сменить среду выполнения** -> **Аппаратный ускоритель** -> **GPU**"
   ]
  },
  {
   "cell_type": "markdown",
   "metadata": {
    "id": "AGi6XX_7_Bgg",
    "pycharm": {
     "name": "#%% md\n"
    }
   },
   "source": [
    "## 2. Обучение и тестирование модели (3 балла)"
   ]
  },
  {
   "cell_type": "markdown",
   "metadata": {
    "id": "0agj_MQoO9Ds",
    "pycharm": {
     "name": "#%% md\n"
    }
   },
   "source": [
    "**Задание 2.1 (2 балла).** Переходим к обучению модели. Заполните пропуски в функциях <code>test</code> и <code>train_epoch</code>. В качестве функции потерь будем использовать [кросс-энтропию](https://pytorch.org/docs/stable/generated/torch.nn.functional.cross_entropy.html), а в качестве метрики качества accuracy."
   ]
  },
  {
   "cell_type": "code",
   "execution_count": null,
   "metadata": {
    "id": "g8gsPPRIevDS",
    "pycharm": {
     "name": "#%%\n"
    }
   },
   "outputs": [],
   "source": [
    "def test(model, loader):\n",
    "    loss_log = []\n",
    "    acc_log = []\n",
    "    model.eval()\n",
    "\n",
    "    with torch.no_grad():\n",
    "        for data, target in loader:\n",
    "            # на девайс\n",
    "            data, target = data.to(device), target.to(device)\n",
    "            # предсказ\n",
    "            output = model(data)\n",
    "            # loss\n",
    "            loss = F.cross_entropy(output, target)\n",
    "            loss_log.append(loss.item())\n",
    "            # accuracy\n",
    "            pred = output.argmax(dim=1)\n",
    "            correct = (pred == target).float().sum()  # кол-во верных предсказ\n",
    "            acc = correct / len(target)  # accuracy батча\n",
    "            acc_log.append(acc.item())      \n",
    "\n",
    "    return np.mean(loss_log), np.mean(acc_log)\n",
    "\n",
    "\n",
    "def train_epoch(model, optimizer, train_loader):\n",
    "    loss_log = []\n",
    "    acc_log = []\n",
    "    model.train()\n",
    "\n",
    "    for data, target in train_loader:\n",
    "        \n",
    "        data, target = data.to(device), target.to(device)\n",
    "        # обнул градиенты\n",
    "        optimizer.zero_grad()\n",
    "        # предсказ\n",
    "        output = model(data)\n",
    "        # loss\n",
    "        loss = F.cross_entropy(output, target)\n",
    "        # оптимиз и обновл весов\n",
    "        loss.backward()\n",
    "        optimizer.step()\n",
    "        loss_log.append(loss.item())\n",
    "        # accuracy\n",
    "        pred = output.argmax(dim=1)\n",
    "        correct = (pred == target).float().sum()\n",
    "        acc = correct / len(target)\n",
    "        acc_log.append(acc.item())\n",
    "\n",
    "    return loss_log, acc_log\n",
    "\n",
    "\n",
    "def train(model, optimizer, n_epochs, train_loader, val_loader, scheduler=None):\n",
    "    train_loss_log, train_acc_log, val_loss_log, val_acc_log = [], [], [], []\n",
    "\n",
    "    for epoch in range(n_epochs):\n",
    "        # обуч одной эпохи\n",
    "        train_loss, train_acc = train_epoch(model, optimizer, train_loader)\n",
    "        # валидация\n",
    "        val_loss, val_acc = test(model, val_loader)\n",
    "\n",
    "        # записываем метрики\n",
    "        train_loss_log.extend(train_loss)\n",
    "        train_acc_log.extend(train_acc)\n",
    "        val_loss_log.append(val_loss)\n",
    "        val_acc_log.append(val_acc)\n",
    "\n",
    "        print(f\"Epoch {epoch}\")\n",
    "        print(f\" train loss: {np.mean(train_loss)}, train acc: {np.mean(train_acc)}\")\n",
    "        print(f\" val loss: {val_loss}, val acc: {val_acc}\\n\")\n",
    "\n",
    "        if scheduler is not None:\n",
    "            if isinstance(scheduler, optim.lr_scheduler.ReduceLROnPlateau): # модификация для работы с scheduler, который учитывает значение метрики\n",
    "                scheduler.step(np.mean(train_loss))\n",
    "            else:\n",
    "                scheduler.step()\n",
    "\n",
    "    return train_loss_log, train_acc_log, val_loss_log, val_acc_log"
   ]
  },
  {
   "cell_type": "markdown",
   "metadata": {
    "id": "iSOqk_CAO9Dt",
    "pycharm": {
     "name": "#%% md\n"
    }
   },
   "source": [
    "Запустим обучение модели. В качестве оптимизатора будем использовать стохастический градиентный спуск, который является де-факто стандартом в задачах компьютерного зрения (наравне с <code>Adam</code>).\n",
    "\n",
    "__Замечание:__ Для достижения наилучшего качества в нашем случае потребуется обучать модель несколько сотен эпох. Однако в целях экономии вашего времени и сил, во всех экспериментах мы ограничимся 20 эпохами."
   ]
  },
  {
   "cell_type": "code",
   "execution_count": 15,
   "metadata": {
    "id": "MKZBGhuAgMDu",
    "pycharm": {
     "name": "#%%\n"
    },
    "scrolled": true
   },
   "outputs": [
    {
     "name": "stdout",
     "output_type": "stream",
     "text": [
      "Epoch 0\n",
      " train loss: 1.4680310913805987, train acc: 0.4739610537532479\n",
      " val loss: 1.2853126553778953, val acc: 0.5550531914893617\n",
      "\n",
      "Epoch 1\n",
      " train loss: 1.17597078743103, train acc: 0.5895591211493316\n",
      " val loss: 1.1094889965463193, val acc: 0.6106604609083622\n",
      "\n",
      "Epoch 2\n",
      " train loss: 1.0543368045765042, train acc: 0.6319616740974692\n",
      " val loss: 1.0106857264295537, val acc: 0.6494902481424047\n",
      "\n",
      "Epoch 3\n",
      " train loss: 0.9934918294223178, train acc: 0.6547034147452611\n",
      " val loss: 1.0356983940652076, val acc: 0.6424645390916378\n",
      "\n",
      "Epoch 4\n",
      " train loss: 0.9628583030465316, train acc: 0.6645093366258541\n",
      " val loss: 0.9879357718406839, val acc: 0.6553634752618506\n",
      "\n",
      "Epoch 5\n",
      " train loss: 0.9265414916619087, train acc: 0.6765392399793133\n",
      " val loss: 1.007685286187111, val acc: 0.6538342199427016\n",
      "\n",
      "Epoch 6\n",
      " train loss: 0.9041538057641094, train acc: 0.6865002285191956\n",
      " val loss: 0.9258985620863894, val acc: 0.680718085106383\n",
      "\n",
      "Epoch 7\n",
      " train loss: 0.8848402492524937, train acc: 0.6938250848318585\n",
      " val loss: 0.9741160760534571, val acc: 0.6653147163543295\n",
      "\n",
      "Epoch 8\n",
      " train loss: 0.8784812669213555, train acc: 0.6933231588037619\n",
      " val loss: 0.905919503404739, val acc: 0.6878767731341909\n",
      "\n",
      "Epoch 9\n",
      " train loss: 0.8486246759756392, train acc: 0.7052796095119316\n",
      " val loss: 0.9537349619763963, val acc: 0.6727171986661059\n",
      "\n",
      "Epoch 10\n",
      " train loss: 0.8336498592409834, train acc: 0.7091725973150194\n",
      " val loss: 0.8988110392651659, val acc: 0.6899157800572984\n",
      "\n",
      "Epoch 11\n",
      " train loss: 0.8227550535576871, train acc: 0.715024321018233\n",
      " val loss: 0.9043890991109482, val acc: 0.6953679077168728\n",
      "\n",
      "Epoch 12\n",
      " train loss: 0.8148158175744784, train acc: 0.7188071297989032\n",
      " val loss: 0.9320363574839653, val acc: 0.6874113476022761\n",
      "\n",
      "Epoch 13\n",
      " train loss: 0.7981763107249245, train acc: 0.7219615107916391\n",
      " val loss: 0.8776230705545304, val acc: 0.6978280140998515\n",
      "\n",
      "Epoch 14\n",
      " train loss: 0.7960385657860548, train acc: 0.7213494058500914\n",
      " val loss: 0.9324923041019034, val acc: 0.6829787234042554\n",
      "\n",
      "Epoch 15\n",
      " train loss: 0.7823414889724425, train acc: 0.7284008553302702\n",
      " val loss: 0.8806230326916309, val acc: 0.6964095744680852\n",
      "\n",
      "Epoch 16\n",
      " train loss: 0.7775133184584665, train acc: 0.7292414794674303\n",
      " val loss: 0.866208306525616, val acc: 0.7044547872340425\n",
      "\n",
      "Epoch 17\n",
      " train loss: 0.7634180705224792, train acc: 0.73390571955571\n",
      " val loss: 0.8498086241965598, val acc: 0.71128102845334\n",
      "\n",
      "Epoch 18\n",
      " train loss: 0.7541673596423984, train acc: 0.7359501501541905\n",
      " val loss: 0.8451483741719672, val acc: 0.7143838651636814\n",
      "\n",
      "Epoch 19\n",
      " train loss: 0.7479938226164586, train acc: 0.7405409375971806\n",
      " val loss: 0.890366881705345, val acc: 0.6929742906955962\n",
      "\n"
     ]
    }
   ],
   "source": [
    "optimizer = optim.SGD(net.parameters(), lr=0.1, momentum=0.9)\n",
    "train_loss_log, train_acc_log, val_loss_log, val_acc_log = train(\n",
    "    net, optimizer, 20, train_loader, val_loader\n",
    ")"
   ]
  },
  {
   "cell_type": "markdown",
   "metadata": {
    "id": "gUb1jQW8O9Dt",
    "pycharm": {
     "name": "#%% md\n"
    }
   },
   "source": [
    "Посчитайте точность на тестовой выборке:"
   ]
  },
  {
   "cell_type": "code",
   "execution_count": 16,
   "metadata": {
    "id": "Jyuc55B9_Amc",
    "pycharm": {
     "name": "#%%\n"
    }
   },
   "outputs": [
    {
     "data": {
      "text/plain": [
       "(0.8904836090507021, 0.6945660828025477)"
      ]
     },
     "execution_count": 16,
     "metadata": {},
     "output_type": "execute_result"
    }
   ],
   "source": [
    "test(net, test_loader)"
   ]
  },
  {
   "cell_type": "markdown",
   "metadata": {
    "id": "zM38Q9fwO9Dt",
    "pycharm": {
     "name": "#%% md\n"
    }
   },
   "source": [
    "Если вы все сделали правильно, у вас должна была получиться точность $\\ge 67\\%$."
   ]
  },
  {
   "cell_type": "markdown",
   "metadata": {
    "id": "DHFNSKcoO9Dt",
    "pycharm": {
     "name": "#%% md\n"
    }
   },
   "source": [
    "**Задание 2.2 (1 балл).** Постройте графики зависимости функции потерь и точности классификации от номера шага оптимизатора. На каждом графике расположите данные и для обучающей и для валидационной выборки, итого у вас должно получиться два графика. Обратите внимание, что на обучающей выборке эти данные считаются по каждому батчу, на валидационной же они считаются по всей выборке раз в эпоху."
   ]
  },
  {
   "cell_type": "code",
   "execution_count": 23,
   "metadata": {},
   "outputs": [
    {
     "data": {
      "text/plain": [
       "547"
      ]
     },
     "execution_count": 23,
     "metadata": {},
     "output_type": "execute_result"
    }
   ],
   "source": [
    "# кол-во батчей в эпохе\n",
    "len(train_loader)  "
   ]
  },
  {
   "cell_type": "code",
   "execution_count": 13,
   "metadata": {},
   "outputs": [],
   "source": [
    "import matplotlib.pyplot as plt"
   ]
  },
  {
   "cell_type": "code",
   "execution_count": 12,
   "metadata": {
    "id": "LzIP0tGLO9Dt",
    "pycharm": {
     "name": "#%%\n"
    }
   },
   "outputs": [],
   "source": [
    "def plot_training_metrics(train_loss_log, train_acc_log, val_loss_log, val_acc_log, steps_per_epoch):\n",
    "    \n",
    "    # ось Х треина\n",
    "    train_steps = np.arange(len(train_loss_log))\n",
    "    \n",
    "    # ось X валидации\n",
    "    val_steps = np.arange(1, len(val_loss_log)+1) * steps_per_epoch - 1\n",
    "    \n",
    "    plt.figure(figsize=(14, 6))\n",
    "    \n",
    "    # loss\n",
    "    plt.subplot(1, 2, 1)\n",
    "    plt.plot(train_steps, train_loss_log, label='Loss обучения')\n",
    "    plt.plot(val_steps, val_loss_log, label='Loss валидации')\n",
    "    plt.xlabel('Шаг обучения')\n",
    "    plt.ylabel('Loss')\n",
    "    plt.title('Loss обучения и валидации')\n",
    "    plt.legend()\n",
    "    plt.grid(True)\n",
    "    \n",
    "    # accuracy\n",
    "    plt.subplot(1, 2, 2)\n",
    "    plt.plot(train_steps, train_acc_log, label='Accuracy на обучении')\n",
    "    plt.plot(val_steps, val_acc_log, label='Accuracy на валидации')\n",
    "    plt.xlabel('Шаг обучения')\n",
    "    plt.ylabel('Accuracy')\n",
    "    plt.title('Accuracy на обучении и валидации')\n",
    "    plt.legend()\n",
    "    plt.grid(True)\n",
    "    \n",
    "    plt.tight_layout()\n",
    "    plt.show()"
   ]
  },
  {
   "cell_type": "code",
   "execution_count": 39,
   "metadata": {},
   "outputs": [
    {
     "data": {
      "image/png": "[encoded data removed]",
      "text/plain": [
       "<Figure size 1400x600 with 2 Axes>"
      ]
     },
     "metadata": {},
     "output_type": "display_data"
    }
   ],
   "source": [
    "plot_training_metrics(train_loss_log, train_acc_log, val_loss_log, val_acc_log, steps_per_epoch=547)"
   ]
  },
  {
   "cell_type": "markdown",
   "metadata": {
    "id": "_ttOJPj-O9Dt",
    "pycharm": {
     "name": "#%% md\n"
    }
   },
   "source": [
    "## 3. Расписание длины шага (2 балла)"
   ]
  },
  {
   "cell_type": "markdown",
   "metadata": {
    "id": "qiz3JstuO9Dt",
    "pycharm": {
     "name": "#%% md\n"
    }
   },
   "source": [
    "С курса \"Машинное обучение 1\" вы уже должны знать, что сходимость стохастического градиентного спуска мы можем теоретически гарантировать только если будем определенным образом со временем уменьшать длину шага. На практике при обучении нейронных сетей такая техника оказывается очень полезной, однако теоретически обоснованными способами уменьшения длины шага фантазия не ограничивается.\n",
    "\n",
    "Одним из простейших способов является кусочно постоянная функция: на нескольких фиксированных эпохах уменьшаем длину шага в константу раз."
   ]
  },
  {
   "cell_type": "code",
   "execution_count": 40,
   "metadata": {
    "id": "V2Z0OT3nO9Du",
    "pycharm": {
     "name": "#%%\n"
    }
   },
   "outputs": [
    {
     "name": "stdout",
     "output_type": "stream",
     "text": [
      "Epoch 0\n",
      " train loss: 1.4989990874225958, train acc: 0.4634940585009141\n",
      " val loss: 1.3367346104155196, val acc: 0.5313164893617022\n",
      "\n",
      "Epoch 1\n",
      " train loss: 1.1921217693271322, train acc: 0.5848663162705667\n",
      " val loss: 1.140276757706987, val acc: 0.6032136525245423\n",
      "\n",
      "Epoch 2\n",
      " train loss: 1.0718649249843968, train acc: 0.6293541067697013\n",
      " val loss: 1.0748123125827058, val acc: 0.6342641843126176\n",
      "\n",
      "Epoch 3\n",
      " train loss: 1.0180945915103612, train acc: 0.6463298185216008\n",
      " val loss: 1.018305961375541, val acc: 0.6478058510638298\n",
      "\n",
      "Epoch 4\n",
      " train loss: 0.9798140931173042, train acc: 0.6588779707495429\n",
      " val loss: 0.9939836451347838, val acc: 0.6551861702127659\n",
      "\n",
      "Epoch 5\n",
      " train loss: 0.9562071568351341, train acc: 0.6685492296105547\n",
      " val loss: 0.9918925658185431, val acc: 0.6550088651636814\n",
      "\n",
      "Epoch 6\n",
      " train loss: 0.9214881346910048, train acc: 0.6791590493601463\n",
      " val loss: 1.0074367804730193, val acc: 0.6494459220703612\n",
      "\n",
      "Epoch 7\n",
      " train loss: 0.9071764938356236, train acc: 0.6848761099348121\n",
      " val loss: 0.9834001325546426, val acc: 0.6567597518575953\n",
      "\n",
      "Epoch 8\n",
      " train loss: 0.8816618750474571, train acc: 0.6962326978634654\n",
      " val loss: 0.9346576708428403, val acc: 0.6796985816448293\n",
      "\n",
      "Epoch 9\n",
      " train loss: 0.8701069682999982, train acc: 0.6984362758055901\n",
      " val loss: 0.9247488912115706, val acc: 0.6851063829787234\n",
      "\n",
      "Epoch 10\n",
      " train loss: 0.7623840857031576, train acc: 0.7370396970177046\n",
      " val loss: 0.8436199751306087, val acc: 0.7087987587807026\n",
      "\n",
      "Epoch 11\n",
      " train loss: 0.7428679879775213, train acc: 0.7440299360146252\n",
      " val loss: 0.8353638413104605, val acc: 0.7169326241980207\n",
      "\n",
      "Epoch 12\n",
      " train loss: 0.7371806454396989, train acc: 0.7465966962809101\n",
      " val loss: 0.8387092623304814, val acc: 0.7136081561129144\n",
      "\n",
      "Epoch 13\n",
      " train loss: 0.7332146953948019, train acc: 0.7472414468062644\n",
      " val loss: 0.8419900173836566, val acc: 0.7133200353764473\n",
      "\n",
      "Epoch 14\n",
      " train loss: 0.728144438491225, train acc: 0.7480616675216494\n",
      " val loss: 0.8375307514312419, val acc: 0.7142508864402771\n",
      "\n",
      "Epoch 15\n",
      " train loss: 0.7132780011436839, train acc: 0.7551906503314728\n",
      " val loss: 0.8252136760569634, val acc: 0.7198138297872341\n",
      "\n",
      "Epoch 16\n",
      " train loss: 0.7123382398262756, train acc: 0.7555375098092465\n",
      " val loss: 0.8218068973815188, val acc: 0.7197251773895101\n",
      "\n",
      "Epoch 17\n",
      " train loss: 0.709743039318151, train acc: 0.7565495233431159\n",
      " val loss: 0.8219490446942918, val acc: 0.7211214539852548\n",
      "\n",
      "Epoch 18\n",
      " train loss: 0.7100335065363966, train acc: 0.7565699268738574\n",
      " val loss: 0.8213939614752506, val acc: 0.7212544327086591\n",
      "\n",
      "Epoch 19\n",
      " train loss: 0.7082408050950311, train acc: 0.757116740647792\n",
      " val loss: 0.8221380303514765, val acc: 0.7206781914893617\n",
      "\n"
     ]
    }
   ],
   "source": [
    "net = BasicBlockNet().to(device)\n",
    "optimizer = optim.SGD(net.parameters(), lr=0.1, momentum=0.9)\n",
    "scheduler = optim.lr_scheduler.MultiStepLR(optimizer, milestones=[10, 15], gamma=0.1)\n",
    "tr_loss_log, tr_acc_log, val_loss_log, val_acc_log = train(\n",
    "    net, optimizer, 20, train_loader, val_loader, scheduler\n",
    ")"
   ]
  },
  {
   "cell_type": "markdown",
   "metadata": {
    "id": "5Xc76KvzO9Du",
    "pycharm": {
     "name": "#%% md\n"
    }
   },
   "source": [
    "Посчитайте точность на тестовой выборке:"
   ]
  },
  {
   "cell_type": "code",
   "execution_count": 41,
   "metadata": {
    "id": "1AjiYhKqO9Du",
    "pycharm": {
     "name": "#%%\n"
    }
   },
   "outputs": [
    {
     "data": {
      "text/plain": [
       "(0.8359115357231942, 0.7174562101910829)"
      ]
     },
     "execution_count": 41,
     "metadata": {},
     "output_type": "execute_result"
    }
   ],
   "source": [
    "test(net, test_loader)"
   ]
  },
  {
   "cell_type": "markdown",
   "metadata": {
    "id": "yE0dgLYrO9Du",
    "pycharm": {
     "name": "#%% md\n"
    }
   },
   "source": [
    "**Задание 3.0 (0.5 баллов).** Здесь может возникнуть вопрос: а что будет, если мы не будем уменьшать длину шага в процессе обучения, а сразу возьмем констатную, равную значению нашей кусочно-постоянной функции на последних эпохах, то есть $0.001$ в нашем случае. Запустите обучение и проверьте, что в таком случае мы получим худшее качество на тестовой выборке."
   ]
  },
  {
   "cell_type": "code",
   "execution_count": 42,
   "metadata": {
    "id": "qZ2iB-LBO9Du",
    "pycharm": {
     "name": "#%%\n"
    }
   },
   "outputs": [
    {
     "name": "stdout",
     "output_type": "stream",
     "text": [
      "Epoch 0\n",
      " train loss: 1.8259505977142445, train acc: 0.35899549488393656\n",
      " val loss: 1.6196017610265854, val acc: 0.4351728723404255\n",
      "\n",
      "Epoch 1\n",
      " train loss: 1.551705068818394, train acc: 0.455238802559415\n",
      " val loss: 1.462051369788799, val acc: 0.48723404255319147\n",
      "\n",
      "Epoch 2\n",
      " train loss: 1.4283759681136778, train acc: 0.4967109558787163\n",
      " val loss: 1.3718493771045766, val acc: 0.513984929120287\n",
      "\n",
      "Epoch 3\n",
      " train loss: 1.3439401052551687, train acc: 0.5276589840378142\n",
      " val loss: 1.2988659178957027, val acc: 0.5439494680851064\n",
      "\n",
      "Epoch 4\n",
      " train loss: 1.2853836492385027, train acc: 0.549290774400317\n",
      " val loss: 1.2606517954075591, val acc: 0.5584663120990104\n",
      "\n",
      "Epoch 5\n",
      " train loss: 1.244311591062075, train acc: 0.5633161399765468\n",
      " val loss: 1.2172553148675471, val acc: 0.5716976950777338\n",
      "\n",
      "Epoch 6\n",
      " train loss: 1.2046691551940751, train acc: 0.5769905653906479\n",
      " val loss: 1.211779457711159, val acc: 0.5704343972053934\n",
      "\n",
      "Epoch 7\n",
      " train loss: 1.175743385468366, train acc: 0.5896856229091693\n",
      " val loss: 1.1743963015840408, val acc: 0.5847296099713508\n",
      "\n",
      "Epoch 8\n",
      " train loss: 1.1482248038216962, train acc: 0.5958964481432215\n",
      " val loss: 1.1642044660892892, val acc: 0.5899379432201386\n",
      "\n",
      "Epoch 9\n",
      " train loss: 1.126978387889304, train acc: 0.6081956777537763\n",
      " val loss: 1.121371427495429, val acc: 0.6100842199427017\n",
      "\n",
      "Epoch 10\n",
      " train loss: 1.0994179730441496, train acc: 0.6167610669048874\n",
      " val loss: 1.086114638409716, val acc: 0.6214095744680851\n",
      "\n",
      "Epoch 11\n",
      " train loss: 1.0820419284935625, train acc: 0.6223393836666504\n",
      " val loss: 1.1091973855140362, val acc: 0.6083998227373083\n",
      "\n",
      "Epoch 12\n",
      " train loss: 1.0634125112615511, train acc: 0.6289868438701525\n",
      " val loss: 1.0478727338161875, val acc: 0.6333776595744681\n",
      "\n",
      "Epoch 13\n",
      " train loss: 1.044178199070681, train acc: 0.6345080308330124\n",
      " val loss: 1.0561855095498105, val acc: 0.6302526595744681\n",
      "\n",
      "Epoch 14\n",
      " train loss: 1.0317456896605832, train acc: 0.6418859362602234\n",
      " val loss: 1.0749819299007983, val acc: 0.6232491134329045\n",
      "\n",
      "Epoch 15\n",
      " train loss: 1.0133909702954824, train acc: 0.6470357795302131\n",
      " val loss: 1.0115451663098436, val acc: 0.6494237587807027\n",
      "\n",
      "Epoch 16\n",
      " train loss: 0.998648218415555, train acc: 0.6521121702638797\n",
      " val loss: 1.0319199546854547, val acc: 0.6372340425531915\n",
      "\n",
      "Epoch 17\n",
      " train loss: 0.9866364295347517, train acc: 0.6575762274278365\n",
      " val loss: 0.9983892752769146, val acc: 0.651440602921425\n",
      "\n",
      "Epoch 18\n",
      " train loss: 0.9714172868231751, train acc: 0.6640318947038877\n",
      " val loss: 0.9821114149499447, val acc: 0.6585992906955962\n",
      "\n",
      "Epoch 19\n",
      " train loss: 0.9524037413013047, train acc: 0.6703406567983261\n",
      " val loss: 0.9704534484985027, val acc: 0.6606826241980208\n",
      "\n"
     ]
    }
   ],
   "source": [
    "net = BasicBlockNet().to(device)\n",
    "optimizer = optim.SGD(net.parameters(), lr=0.001, momentum=0.9) # lr = 0.001 (const)\n",
    "tr_loss_log, tr_acc_log, val_loss_log, val_acc_log = train(\n",
    "    net, optimizer, 20, train_loader, val_loader)"
   ]
  },
  {
   "cell_type": "code",
   "execution_count": 43,
   "metadata": {},
   "outputs": [
    {
     "data": {
      "text/plain": [
       "(0.9724509214899343, 0.6644108280254777)"
      ]
     },
     "execution_count": 43,
     "metadata": {},
     "output_type": "execute_result"
    }
   ],
   "source": [
    "test(net, test_loader)"
   ]
  },
  {
   "cell_type": "markdown",
   "metadata": {},
   "source": [
    "Закономерно, качество сильно хуже, так как очень медленно спускается"
   ]
  },
  {
   "cell_type": "markdown",
   "metadata": {
    "id": "xVotU378O9Du",
    "pycharm": {
     "name": "#%% md\n"
    }
   },
   "source": [
    "**Задание 3.1 (1.5 балла).** Изучите, какие еще способы уменьшения длины шага представлены в <code>torch.optim.lr_scheduler</code>. Выберите несколько из них, объясните, как они устроены, и обучите модель с ними. Удалось ли добиться улучшения качества на тестовой выборке?"
   ]
  },
  {
   "cell_type": "markdown",
   "metadata": {},
   "source": [
    "Scheduler довольно много, мне показались интересными эти 3:\n",
    "1) **lr_scheduler.ExponentialLR** - по экспоненте уменьшает learning_rate после каждой эпохи\n",
    "2) **lr_scheduler.ReduceLROnPlateau** - уменьшает learning_rate только тогда, когда отслеживаемая метрика перестает улучшаться\n",
    "3) **lr_scheduler.CyclicLR** - learning_rate циклически меняется между заданным базовым и заданным максимальным. Есть разные амплитуды, то есть как сменяется базовый и максимальный learning_rate\n",
    "\n"
   ]
  },
  {
   "cell_type": "markdown",
   "metadata": {},
   "source": [
    "**ExponentialLR**"
   ]
  },
  {
   "cell_type": "code",
   "execution_count": 48,
   "metadata": {
    "id": "nkGlzocOO9Du",
    "pycharm": {
     "name": "#%%\n"
    }
   },
   "outputs": [
    {
     "name": "stdout",
     "output_type": "stream",
     "text": [
      "Epoch 0\n",
      " train loss: 1.5246990345949665, train acc: 0.45261491249422703\n",
      " val loss: 1.346647245072304, val acc: 0.5232047872340425\n",
      "\n",
      "Epoch 1\n",
      " train loss: 1.146595327466236, train acc: 0.5957658658079953\n",
      " val loss: 1.100431923156089, val acc: 0.6141843972053934\n",
      "\n",
      "Epoch 2\n",
      " train loss: 1.019576549747962, train acc: 0.6446852964064756\n",
      " val loss: 1.0112800532198967, val acc: 0.6507535460147452\n",
      "\n",
      "Epoch 3\n",
      " train loss: 0.9751303567528943, train acc: 0.6614569730688928\n",
      " val loss: 0.9949480356054103, val acc: 0.6568484042553191\n",
      "\n",
      "Epoch 4\n",
      " train loss: 0.9619967146373101, train acc: 0.6657417079866259\n",
      " val loss: 0.9845114842374274, val acc: 0.6587765957446808\n",
      "\n",
      "Epoch 5\n",
      " train loss: 0.9566773518347871, train acc: 0.6686267628312329\n",
      " val loss: 0.9824075118024298, val acc: 0.6612367021276596\n",
      "\n",
      "Epoch 6\n",
      " train loss: 0.9551593327870971, train acc: 0.6688838469262969\n",
      " val loss: 0.9821947688752032, val acc: 0.6603280140998515\n",
      "\n",
      "Epoch 7\n",
      " train loss: 0.9542666354388598, train acc: 0.6684023243199755\n",
      " val loss: 0.9820427813428514, val acc: 0.6610372340425532\n",
      "\n",
      "Epoch 8\n",
      " train loss: 0.9531933592268056, train acc: 0.669712229010392\n",
      " val loss: 0.9814248338658759, val acc: 0.6606161348363186\n",
      "\n",
      "Epoch 9\n",
      " train loss: 0.9522409039180065, train acc: 0.6688389592894253\n",
      " val loss: 0.9814861147961718, val acc: 0.6603058510638298\n",
      "\n",
      "Epoch 10\n",
      " train loss: 0.9544928167594199, train acc: 0.668720619007264\n",
      " val loss: 0.9815555351845762, val acc: 0.6599290779296388\n",
      "\n",
      "Epoch 11\n",
      " train loss: 0.9536546833772328, train acc: 0.6694877904991345\n",
      " val loss: 0.9819558059915583, val acc: 0.6602393617021277\n",
      "\n",
      "Epoch 12\n",
      " train loss: 0.954973410535774, train acc: 0.6691817380828439\n",
      " val loss: 0.9824578323262803, val acc: 0.6592863476022761\n",
      "\n",
      "Epoch 13\n",
      " train loss: 0.9547970229572527, train acc: 0.6681982893394596\n",
      " val loss: 0.9818781124784591, val acc: 0.6603280140998515\n",
      "\n",
      "Epoch 14\n",
      " train loss: 0.9530007488330932, train acc: 0.669491871292456\n",
      " val loss: 0.9816133666545787, val acc: 0.659906914893617\n",
      "\n",
      "Epoch 15\n",
      " train loss: 0.9539914144240524, train acc: 0.6693572081639082\n",
      " val loss: 0.9817333074326211, val acc: 0.6607047872340426\n",
      "\n",
      "Epoch 16\n",
      " train loss: 0.9536117549570212, train acc: 0.6704998041419704\n",
      " val loss: 0.9815914169270942, val acc: 0.6604609928232559\n",
      "\n",
      "Epoch 17\n",
      " train loss: 0.9534206036239917, train acc: 0.6699937973205524\n",
      " val loss: 0.9821230500302416, val acc: 0.6603058510638298\n",
      "\n",
      "Epoch 18\n",
      " train loss: 0.9541763799499986, train acc: 0.6673943914704611\n",
      " val loss: 0.9818268689703434, val acc: 0.660438829787234\n",
      "\n",
      "Epoch 19\n",
      " train loss: 0.9535637343169566, train acc: 0.670834421566679\n",
      " val loss: 0.9816093690851901, val acc: 0.6600398936170213\n",
      "\n"
     ]
    }
   ],
   "source": [
    "net = BasicBlockNet().to(device)\n",
    "optimizer = optim.SGD(net.parameters(), lr=0.1, momentum=0.9)\n",
    "scheduler = optim.lr_scheduler.ExponentialLR(optimizer,  gamma=0.3)\n",
    "tr_loss_log, tr_acc_log, val_loss_log, val_acc_log = train(\n",
    "    net, optimizer, 20, train_loader, val_loader, scheduler\n",
    ")"
   ]
  },
  {
   "cell_type": "code",
   "execution_count": 49,
   "metadata": {},
   "outputs": [
    {
     "data": {
      "text/plain": [
       "(0.9912994371098318, 0.6517714968152867)"
      ]
     },
     "execution_count": 49,
     "metadata": {},
     "output_type": "execute_result"
    }
   ],
   "source": [
    "test(net, test_loader)"
   ]
  },
  {
   "cell_type": "markdown",
   "metadata": {},
   "source": [
    "**ReduceLROnPlateau**"
   ]
  },
  {
   "cell_type": "code",
   "execution_count": 53,
   "metadata": {},
   "outputs": [
    {
     "data": {
      "text/plain": [
       "<torch.optim.lr_scheduler.ReduceLROnPlateau at 0x35d04ad80>"
      ]
     },
     "execution_count": 53,
     "metadata": {},
     "output_type": "execute_result"
    }
   ],
   "source": [
    "scheduler"
   ]
  },
  {
   "cell_type": "code",
   "execution_count": 58,
   "metadata": {},
   "outputs": [
    {
     "name": "stdout",
     "output_type": "stream",
     "text": [
      "Epoch 0\n",
      " train loss: 1.5039883826942724, train acc: 0.4605110668504042\n",
      " val loss: 1.2703796929501472, val acc: 0.5565824468085107\n",
      "\n",
      "Epoch 1\n",
      " train loss: 1.2042808802951623, train acc: 0.5739790088951696\n",
      " val loss: 1.1375845361263195, val acc: 0.604809397078575\n",
      "\n",
      "Epoch 2\n",
      " train loss: 1.0856880599009708, train acc: 0.6189319992632055\n",
      " val loss: 1.095592725276947, val acc: 0.6184175531914894\n",
      "\n",
      "Epoch 3\n",
      " train loss: 1.0197687517354432, train acc: 0.6435386197440585\n",
      " val loss: 1.0085450484397565, val acc: 0.652216311972192\n",
      "\n",
      "Epoch 4\n",
      " train loss: 0.9841181500738239, train acc: 0.6574293222462237\n",
      " val loss: 1.0616056713652104, val acc: 0.6324911348363187\n",
      "\n",
      "Epoch 5\n",
      " train loss: 0.9477747597031881, train acc: 0.6676841211493316\n",
      " val loss: 0.9717740348044862, val acc: 0.6561391843126175\n",
      "\n",
      "Epoch 6\n",
      " train loss: 0.9224136891269161, train acc: 0.6786122355862118\n",
      " val loss: 0.9987464582666438, val acc: 0.6574911348363186\n",
      "\n",
      "Epoch 7\n",
      " train loss: 0.9020953168598782, train acc: 0.6841538260798131\n",
      " val loss: 0.9512770135351952, val acc: 0.6669104609083623\n",
      "\n",
      "Epoch 8\n",
      " train loss: 0.8833772205565485, train acc: 0.6909930791017996\n",
      " val loss: 0.9918069400685898, val acc: 0.6538563829787234\n",
      "\n",
      "Epoch 9\n",
      " train loss: 0.8593374547400466, train acc: 0.6982893706239773\n",
      " val loss: 0.915722734623767, val acc: 0.6846187944107868\n",
      "\n",
      "Epoch 10\n",
      " train loss: 0.8470090921879686, train acc: 0.704414501159675\n",
      " val loss: 0.9169449115053137, val acc: 0.6843306736743197\n",
      "\n",
      "Epoch 11\n",
      " train loss: 0.8358621316156614, train acc: 0.708944078119407\n",
      " val loss: 0.889729140920842, val acc: 0.6922429077168728\n",
      "\n",
      "Epoch 12\n",
      " train loss: 0.8243927304008107, train acc: 0.7111803016453382\n",
      " val loss: 0.8979670991288855, val acc: 0.6893395390916378\n",
      "\n",
      "Epoch 13\n",
      " train loss: 0.8128863230919707, train acc: 0.7164566466751656\n",
      " val loss: 0.9233341310886627, val acc: 0.686059397078575\n",
      "\n",
      "Epoch 14\n",
      " train loss: 0.803489963304408, train acc: 0.7189173087123543\n",
      " val loss: 0.86430070324147, val acc: 0.702504432708659\n",
      "\n",
      "Epoch 15\n",
      " train loss: 0.7973719319325261, train acc: 0.7222838861632827\n",
      " val loss: 0.8764918392008924, val acc: 0.7\n",
      "\n",
      "Epoch 16\n",
      " train loss: 0.7825217360334379, train acc: 0.7256790285136625\n",
      " val loss: 0.8669408407617123, val acc: 0.6985150710065314\n",
      "\n",
      "Epoch 17\n",
      " train loss: 0.7757359542620029, train acc: 0.7286334552102377\n",
      " val loss: 0.8613079555491183, val acc: 0.7045877659574468\n",
      "\n",
      "Epoch 18\n",
      " train loss: 0.7676026483885331, train acc: 0.732771284946358\n",
      " val loss: 0.8738926196351965, val acc: 0.6991578013338942\n",
      "\n",
      "Epoch 19\n",
      " train loss: 0.7620578211012009, train acc: 0.7324611517367459\n",
      " val loss: 0.8554913944386421, val acc: 0.7058953901554675\n",
      "\n"
     ]
    }
   ],
   "source": [
    "net = BasicBlockNet().to(device)\n",
    "optimizer = optim.SGD(net.parameters(), lr=0.1, momentum=0.9)\n",
    "scheduler = optim.lr_scheduler.ReduceLROnPlateau(optimizer, \n",
    "                                                 mode='min',  # цель - уменьшение, так как loss (по умолчанию)\n",
    "                                                 factor=0.1,  # множитель\n",
    "                                                 patience=1,  # сколько эпох ждать улучшения\n",
    "                                                 threshold=1e-4  # минимальное значимое улучшение\n",
    "                                                 )\n",
    "tr_loss_log, tr_acc_log, val_loss_log, val_acc_log = train(\n",
    "    net, optimizer, 20, train_loader, val_loader, scheduler\n",
    ")"
   ]
  },
  {
   "cell_type": "code",
   "execution_count": 59,
   "metadata": {},
   "outputs": [
    {
     "data": {
      "text/plain": [
       "(0.8701481031384438, 0.7018312101910829)"
      ]
     },
     "execution_count": 59,
     "metadata": {},
     "output_type": "execute_result"
    }
   ],
   "source": [
    "test(net, test_loader)"
   ]
  },
  {
   "cell_type": "markdown",
   "metadata": {},
   "source": [
    "**CyclicLR**"
   ]
  },
  {
   "cell_type": "code",
   "execution_count": null,
   "metadata": {},
   "outputs": [
    {
     "name": "stdout",
     "output_type": "stream",
     "text": [
      "Epoch 0\n",
      " train loss: 1.8195478386591295, train acc: 0.3648512992715051\n",
      " val loss: 1.6138711066956215, val acc: 0.4396276595744681\n",
      "\n",
      "Epoch 1\n",
      " train loss: 1.5043277040913947, train acc: 0.4707373008540605\n",
      " val loss: 1.400882601737976, val acc: 0.5016179078436912\n",
      "\n",
      "Epoch 2\n",
      " train loss: 1.356720003610991, train acc: 0.5198322015880884\n",
      " val loss: 1.2910956948361498, val acc: 0.5429742908224147\n",
      "\n",
      "Epoch 3\n",
      " train loss: 1.2537391538811775, train acc: 0.5573991250512369\n",
      " val loss: 1.20870023458562, val acc: 0.5682845744680851\n",
      "\n",
      "Epoch 4\n",
      " train loss: 1.1574431321084826, train acc: 0.5914076782449725\n",
      " val loss: 1.0868271234187674, val acc: 0.620434397078575\n",
      "\n",
      "Epoch 5\n",
      " train loss: 1.0746719224797305, train acc: 0.6238370004911963\n",
      " val loss: 1.0193710091266226, val acc: 0.6489140071767442\n",
      "\n",
      "Epoch 6\n",
      " train loss: 1.0212777941274904, train acc: 0.6433182619171561\n",
      " val loss: 0.9984688725877315, val acc: 0.6454565603682335\n",
      "\n",
      "Epoch 7\n",
      " train loss: 0.9832549320714348, train acc: 0.655723589756807\n",
      " val loss: 0.9462398957698903, val acc: 0.6655141844394359\n",
      "\n",
      "Epoch 8\n",
      " train loss: 0.9527243243928801, train acc: 0.6685900365630713\n",
      " val loss: 0.9487648464263754, val acc: 0.6681515957446809\n",
      "\n",
      "Epoch 9\n",
      " train loss: 0.9332695069435092, train acc: 0.6783265865916962\n",
      " val loss: 0.9456747387317901, val acc: 0.6714982268658091\n",
      "\n",
      "Epoch 10\n",
      " train loss: 0.8999609857852106, train acc: 0.6885569012797075\n",
      " val loss: 0.9609195201954943, val acc: 0.6662898936170213\n",
      "\n",
      "Epoch 11\n",
      " train loss: 0.8848293494480838, train acc: 0.6931925763595692\n",
      " val loss: 0.8867749556582025, val acc: 0.6994902481424048\n",
      "\n",
      "Epoch 12\n",
      " train loss: 0.8634061615035564, train acc: 0.7012437973205524\n",
      " val loss: 0.9147233194493233, val acc: 0.6857269502700644\n",
      "\n",
      "Epoch 13\n",
      " train loss: 0.8478721213515106, train acc: 0.7072301841523138\n",
      " val loss: 0.8926718278134123, val acc: 0.6930407800572984\n",
      "\n",
      "Epoch 14\n",
      " train loss: 0.836848765230266, train acc: 0.7101356424186958\n",
      " val loss: 0.9391831588237843, val acc: 0.6763076241980208\n",
      "\n",
      "Epoch 15\n",
      " train loss: 0.8245646755808668, train acc: 0.7186398210865488\n",
      " val loss: 0.8963774812982438, val acc: 0.6904920212765957\n",
      "\n",
      "Epoch 16\n",
      " train loss: 0.8091690989255469, train acc: 0.7223859035990574\n",
      " val loss: 0.8777208285128817, val acc: 0.7017287234042553\n",
      "\n",
      "Epoch 17\n",
      " train loss: 0.8007940369942507, train acc: 0.7222879668476376\n",
      " val loss: 0.8647239337576197, val acc: 0.7042331561129144\n",
      "\n",
      "Epoch 18\n",
      " train loss: 0.7932297908845723, train acc: 0.7264421193211781\n",
      " val loss: 0.877786566348786, val acc: 0.6986480497299357\n",
      "\n",
      "Epoch 19\n",
      " train loss: 0.7788028076318326, train acc: 0.7306778859176845\n",
      " val loss: 0.8642601855257724, val acc: 0.7063164893617021\n",
      "\n"
     ]
    }
   ],
   "source": [
    "net = BasicBlockNet().to(device)\n",
    "optimizer = optim.SGD(net.parameters(), lr=0.1, momentum=0.9)\n",
    "scheduler = optim.lr_scheduler.CyclicLR(optimizer, \n",
    "                                        base_lr=0.001,  # нижняя граница LR\n",
    "                                        max_lr=0.1,     # верхняя граница LR\n",
    "                                        step_size_up=100,  # сколько batches потребуется чтобы от base_lr вырасти до max_lr\n",
    "                                        step_size_down=None,  # сколько batches потребуется спуститься от max_lr до base_lr\n",
    "                                        mode='triangular'  # форма роста / снижения\n",
    "                                        )\n",
    "tr_loss_log, tr_acc_log, val_loss_log, val_acc_log = train(\n",
    "    net, optimizer, 20, train_loader, val_loader, scheduler\n",
    ")"
   ]
  },
  {
   "cell_type": "code",
   "execution_count": 47,
   "metadata": {},
   "outputs": [
    {
     "data": {
      "text/plain": [
       "(0.8722449146258603, 0.6972531847133758)"
      ]
     },
     "execution_count": 47,
     "metadata": {},
     "output_type": "execute_result"
    }
   ],
   "source": [
    "test(net, test_loader)"
   ]
  },
  {
   "cell_type": "markdown",
   "metadata": {
    "id": "5a_zMNNVO9Du",
    "pycharm": {
     "name": "#%% md\n"
    }
   },
   "source": [
    "Ни одна модификация не побила MultiStepLR, наиболее близкой по качеству стал ReduceLROnPlateau"
   ]
  },
  {
   "cell_type": "markdown",
   "metadata": {
    "id": "7xFXgl_3_E--",
    "pycharm": {
     "name": "#%% md\n"
    }
   },
   "source": [
    "## 4. Аугментации данных (2 балла)"
   ]
  },
  {
   "cell_type": "markdown",
   "metadata": {
    "id": "5G0Easo9O9Du",
    "pycharm": {
     "name": "#%% md\n"
    }
   },
   "source": [
    "Еще одной стандартной техникой, применяющейся в глубинном обучении, а особенно часто в компьютерном зрении, являются аугментации данных. Суть аугментаций состоит в том, что мы можем некоторым синтетическим образом видоизменять объекты обучающей выборки, тем самым расширяя ее, а также делая итоговую модель более устойчивой к таким изменениям.\n",
    "\n",
    "Простейшая аугментация, которую можно применить к картинкам — разворот картинки по горизонтальной оси. То есть при обучении модели с вероятностью $0.5$ мы будем разворачивать картинку из обучающей выборки."
   ]
  },
  {
   "cell_type": "code",
   "execution_count": 5,
   "metadata": {
    "id": "SzeFpgtfO9Du",
    "pycharm": {
     "name": "#%%\n"
    }
   },
   "outputs": [
    {
     "data": {
      "image/png": "[encoded data removed]",
      "text/plain": [
       "<Figure size 640x480 with 1 Axes>"
      ]
     },
     "metadata": {},
     "output_type": "display_data"
    },
    {
     "data": {
      "image/png": "[encoded data removed]",
      "text/plain": [
       "<Figure size 640x480 with 1 Axes>"
      ]
     },
     "metadata": {},
     "output_type": "display_data"
    }
   ],
   "source": [
    "dataiter = iter(train_loader)\n",
    "images, labels = next(dataiter)\n",
    "\n",
    "imshow(torchvision.utils.make_grid(images[:4]))\n",
    "\n",
    "imshow(torchvision.utils.make_grid(transforms.functional.hflip(images[:4])))"
   ]
  },
  {
   "cell_type": "markdown",
   "metadata": {
    "id": "BR4a-XJQO9Du",
    "pycharm": {
     "name": "#%% md\n"
    }
   },
   "source": [
    "Наиболее удобным способом работы с аугментациями в PyTorch является их задание в списке <code>transforms</code>, который затем передается в загрузчик данных. Обучим нашу сеть, применяя горизонтальные повороты:"
   ]
  },
  {
   "cell_type": "code",
   "execution_count": 14,
   "metadata": {
    "id": "na0ScBf-_AqX",
    "pycharm": {
     "name": "#%%\n"
    },
    "scrolled": true
   },
   "outputs": [
    {
     "name": "stdout",
     "output_type": "stream",
     "text": [
      "Epoch 0\n",
      " train loss: 1.4813555537891563, train acc: 0.4726103421103148\n",
      " val loss: 1.276956771789713, val acc: 0.5419547872340426\n",
      "\n",
      "Epoch 1\n",
      " train loss: 1.1814427180743523, train acc: 0.5856865369859517\n",
      " val loss: 1.1006936032721337, val acc: 0.6201462765957447\n",
      "\n",
      "Epoch 2\n",
      " train loss: 1.057044106384082, train acc: 0.6315291199213408\n",
      " val loss: 1.0554420405245841, val acc: 0.6341755319148936\n",
      "\n",
      "Epoch 3\n",
      " train loss: 0.9948536512838639, train acc: 0.6539321624600691\n",
      " val loss: 1.0137740064174572, val acc: 0.6526595744680851\n",
      "\n",
      "Epoch 4\n",
      " train loss: 0.9577346320997863, train acc: 0.6701570253485517\n",
      " val loss: 1.0078472588924652, val acc: 0.6468306736743197\n",
      "\n",
      "Epoch 5\n",
      " train loss: 0.9261103217954827, train acc: 0.6780980673960837\n",
      " val loss: 0.9282647503183243, val acc: 0.6755762412192974\n",
      "\n",
      "Epoch 6\n",
      " train loss: 0.9070256834056303, train acc: 0.688275332969547\n",
      " val loss: 0.9994766554933914, val acc: 0.6513519502700643\n",
      "\n",
      "Epoch 7\n",
      " train loss: 0.8974963910400976, train acc: 0.6873979824552588\n",
      " val loss: 0.8906816426743852, val acc: 0.6928856382978723\n",
      "\n",
      "Epoch 8\n",
      " train loss: 0.8835380744236697, train acc: 0.6928865239432787\n",
      " val loss: 0.9028728409016386, val acc: 0.6921099289934686\n",
      "\n",
      "Epoch 9\n",
      " train loss: 0.8589963146929767, train acc: 0.7012070710523909\n",
      " val loss: 0.8954495853566109, val acc: 0.6975398936170213\n",
      "\n",
      "Epoch 10\n",
      " train loss: 0.7688326427552992, train acc: 0.736496963928125\n",
      " val loss: 0.815512314502229, val acc: 0.7234929077168728\n",
      "\n",
      "Epoch 11\n",
      " train loss: 0.7591893093786466, train acc: 0.7375334617860574\n",
      " val loss: 0.8105309686762221, val acc: 0.7235150710065315\n",
      "\n",
      "Epoch 12\n",
      " train loss: 0.7529032390557869, train acc: 0.7408429093291162\n",
      " val loss: 0.8027927520427298, val acc: 0.7246897162275111\n",
      "\n",
      "Epoch 13\n",
      " train loss: 0.7460775320338157, train acc: 0.7436830765368516\n",
      " val loss: 0.7962601146799453, val acc: 0.7273271276595744\n",
      "\n",
      "Epoch 14\n",
      " train loss: 0.7433579457307429, train acc: 0.7432015539305301\n",
      " val loss: 0.8012403788718772, val acc: 0.7218971630360218\n",
      "\n",
      "Epoch 15\n",
      " train loss: 0.7325901717655837, train acc: 0.7470659767252\n",
      " val loss: 0.792003783266595, val acc: 0.7281914893617021\n",
      "\n",
      "Epoch 16\n",
      " train loss: 0.7264111117209552, train acc: 0.7502285191956124\n",
      " val loss: 0.7861188776949619, val acc: 0.7285239361702127\n",
      "\n",
      "Epoch 17\n",
      " train loss: 0.7282207935667125, train acc: 0.7495266387623887\n",
      " val loss: 0.7902070604740306, val acc: 0.726440602921425\n",
      "\n",
      "Epoch 18\n",
      " train loss: 0.7259433908588926, train acc: 0.7507712522851919\n",
      " val loss: 0.7902813550005567, val acc: 0.7292109928232559\n",
      "\n",
      "Epoch 19\n",
      " train loss: 0.7276297862721536, train acc: 0.7508569469835467\n",
      " val loss: 0.7901907381859231, val acc: 0.7279033688788719\n",
      "\n"
     ]
    }
   ],
   "source": [
    "transform = transforms.Compose(\n",
    "    [\n",
    "        transforms.RandomHorizontalFlip(),\n",
    "        transforms.ToTensor(),\n",
    "        transforms.Normalize((0.5, 0.5, 0.5), (0.5, 0.5, 0.5)),\n",
    "    ]\n",
    ")\n",
    "\n",
    "train_loader, val_loader, test_loader = get_cifar10_data(\n",
    "    batch_size=64, transform_train=transform\n",
    ")\n",
    "\n",
    "net = BasicBlockNet().to(device)\n",
    "optimizer = optim.SGD(net.parameters(), lr=0.1, momentum=0.9)\n",
    "scheduler = optim.lr_scheduler.MultiStepLR(optimizer, milestones=[10, 15], gamma=0.1)\n",
    "tr_loss_log, tr_acc_log, val_loss_log, val_acc_log = train(\n",
    "    net, optimizer, 20, train_loader, val_loader, scheduler\n",
    ")"
   ]
  },
  {
   "cell_type": "markdown",
   "metadata": {
    "id": "v3ZIqDQqO9Dv",
    "pycharm": {
     "name": "#%% md\n"
    }
   },
   "source": [
    "Посчитайте точность на тестовой выборке:"
   ]
  },
  {
   "cell_type": "code",
   "execution_count": 15,
   "metadata": {
    "id": "nNJizMkM_Auh",
    "pycharm": {
     "name": "#%%\n"
    }
   },
   "outputs": [
    {
     "data": {
      "text/plain": [
       "(0.8071125051018538, 0.7247213375796179)"
      ]
     },
     "execution_count": 15,
     "metadata": {},
     "output_type": "execute_result"
    }
   ],
   "source": [
    "test(net, test_loader)"
   ]
  },
  {
   "cell_type": "markdown",
   "metadata": {},
   "source": [
    "Поворот изображения по горизонтали дал прирост в 0.01"
   ]
  },
  {
   "cell_type": "markdown",
   "metadata": {
    "id": "KndehSCHO9Dv",
    "pycharm": {
     "name": "#%% md\n"
    }
   },
   "source": [
    "**Задание 4.1 (2 балла).** Изучите, какие еще способы аугментаций изображений представлены в <code>torchvision.transforms</code>. Выберите несколько из них, объясните, как они устроены, и обучите модель с ними (по отдельности и вместе). Удалось ли добиться улучшения качества на тестовой выборке?"
   ]
  },
  {
   "cell_type": "markdown",
   "metadata": {},
   "source": [
    "Возьмем для сравнения:\n",
    "\n",
    "1) **RandomAffine** - случайный поворот\n",
    "2) **ColorJitter** - цветовые искажения\n",
    "3) **RandomResizedCrop** - случайные вырезки"
   ]
  },
  {
   "cell_type": "markdown",
   "metadata": {},
   "source": [
    "**RandomAffine**"
   ]
  },
  {
   "cell_type": "code",
   "execution_count": null,
   "metadata": {
    "id": "Np4rgvdZ_QRF",
    "pycharm": {
     "name": "#%%\n"
    }
   },
   "outputs": [
    {
     "name": "stdout",
     "output_type": "stream",
     "text": [
      "Epoch 0\n",
      " train loss: 1.6220980217949346, train acc: 0.41352180725259796\n",
      " val loss: 1.3764701523679368, val acc: 0.5017287234042553\n",
      "\n",
      "Epoch 1\n",
      " train loss: 1.3432834112448055, train acc: 0.5225417863516311\n",
      " val loss: 1.2402565654287947, val acc: 0.562344858240574\n",
      "\n",
      "Epoch 2\n",
      " train loss: 1.2356876781043449, train acc: 0.5617042634997115\n",
      " val loss: 1.2335449279622828, val acc: 0.5703014184819891\n",
      "\n",
      "Epoch 3\n",
      " train loss: 1.1794902631090154, train acc: 0.5832462783705382\n",
      " val loss: 1.147944444544772, val acc: 0.597872340425532\n",
      "\n",
      "Epoch 4\n",
      " train loss: 1.1341386466837016, train acc: 0.5996262079183101\n",
      " val loss: 1.2753610968589784, val acc: 0.5664007093044038\n",
      "\n",
      "Epoch 5\n",
      " train loss: 1.1043750797372849, train acc: 0.6149247518623115\n",
      " val loss: 1.1164364786858254, val acc: 0.6030141843126176\n",
      "\n",
      "Epoch 6\n",
      " train loss: 1.0852494732335456, train acc: 0.6182831679445299\n",
      " val loss: 1.1006408057314285, val acc: 0.6082446808510639\n",
      "\n",
      "Epoch 7\n",
      " train loss: 1.0708739287892468, train acc: 0.6256651540560958\n",
      " val loss: 1.1076537119581344, val acc: 0.6109929077168729\n",
      "\n",
      "Epoch 8\n",
      " train loss: 1.0610478325343438, train acc: 0.6246817054216779\n",
      " val loss: 1.0638811078477413, val acc: 0.6298315603682335\n",
      "\n",
      "Epoch 9\n",
      " train loss: 1.0339398790539074, train acc: 0.6375277488061671\n",
      " val loss: 1.0586391956248182, val acc: 0.6356604609083623\n",
      "\n",
      "Epoch 10\n",
      " train loss: 0.9448544962750492, train acc: 0.668112594641105\n",
      " val loss: 0.9655887829496506, val acc: 0.664561170212766\n",
      "\n",
      "Epoch 11\n",
      " train loss: 0.9271813188653978, train acc: 0.6745927461322526\n",
      " val loss: 0.9597478453149186, val acc: 0.6675531914893617\n",
      "\n",
      "Epoch 12\n",
      " train loss: 0.9262405322282362, train acc: 0.6753191107805729\n",
      " val loss: 0.9643551532258379, val acc: 0.6661790779296388\n",
      "\n",
      "Epoch 13\n",
      " train loss: 0.9185374683174399, train acc: 0.6804485505198212\n",
      " val loss: 0.9411808013916015, val acc: 0.674468085106383\n",
      "\n",
      "Epoch 14\n",
      " train loss: 0.9175953725574222, train acc: 0.6791060002455982\n",
      " val loss: 0.9432562587109018, val acc: 0.672783688027808\n",
      "\n",
      "Epoch 15\n",
      " train loss: 0.9023303172706032, train acc: 0.6856596043820355\n",
      " val loss: 0.9291109346328897, val acc: 0.6761746454746165\n",
      "\n",
      "Epoch 16\n",
      " train loss: 0.89656813390948, train acc: 0.6871286563071298\n",
      " val loss: 0.9383985237872347, val acc: 0.6717641843126175\n",
      "\n",
      "Epoch 17\n",
      " train loss: 0.9011425653802847, train acc: 0.6863206777537763\n",
      " val loss: 0.9337858882356197, val acc: 0.6763519502700643\n",
      "\n",
      "Epoch 18\n",
      " train loss: 0.8945625538799837, train acc: 0.6874020632485803\n",
      " val loss: 0.9319359363393581, val acc: 0.6749335106382979\n",
      "\n",
      "Epoch 19\n",
      " train loss: 0.8987991287895705, train acc: 0.6885854661791591\n",
      " val loss: 0.9260981795635629, val acc: 0.6765070922831271\n",
      "\n"
     ]
    }
   ],
   "source": [
    "transform = transforms.Compose(\n",
    "    [\n",
    "        transforms.RandomAffine(degrees=10,          # поворот\n",
    "                                translate=(0.1,0.1), # сдвиг\n",
    "                                scale=(0.9,1.1)      # масштаб\n",
    "                                ),\n",
    "        transforms.ToTensor(),\n",
    "        transforms.Normalize((0.5, 0.5, 0.5), (0.5, 0.5, 0.5)),\n",
    "    ]\n",
    ")\n",
    "\n",
    "train_loader, val_loader, test_loader = get_cifar10_data(\n",
    "    batch_size=64, transform_train=transform\n",
    ")\n",
    "\n",
    "net = BasicBlockNet().to(device)\n",
    "optimizer = optim.SGD(net.parameters(), lr=0.1, momentum=0.9)\n",
    "scheduler = optim.lr_scheduler.MultiStepLR(optimizer, milestones=[10, 15], gamma=0.1)\n",
    "tr_loss_log, tr_acc_log, val_loss_log, val_acc_log = train(\n",
    "    net, optimizer, 20, train_loader, val_loader, scheduler\n",
    ")"
   ]
  },
  {
   "cell_type": "code",
   "execution_count": 17,
   "metadata": {},
   "outputs": [
    {
     "data": {
      "text/plain": [
       "(0.8524161119749591, 0.7057125796178344)"
      ]
     },
     "execution_count": 17,
     "metadata": {},
     "output_type": "execute_result"
    }
   ],
   "source": [
    "test(net, test_loader)"
   ]
  },
  {
   "cell_type": "markdown",
   "metadata": {},
   "source": [
    "**ColorJitter**"
   ]
  },
  {
   "cell_type": "code",
   "execution_count": null,
   "metadata": {},
   "outputs": [
    {
     "name": "stdout",
     "output_type": "stream",
     "text": [
      "Epoch 0\n",
      " train loss: 1.5381816143963412, train acc: 0.45489602376599636\n",
      " val loss: 1.3349061024949906, val acc: 0.5267065602414152\n",
      "\n",
      "Epoch 1\n",
      " train loss: 1.215117059634416, train acc: 0.5739218790962666\n",
      " val loss: 1.1405142378299795, val acc: 0.6038563829787233\n",
      "\n",
      "Epoch 2\n",
      " train loss: 1.105495918276541, train acc: 0.614430987202925\n",
      " val loss: 1.0740371384519212, val acc: 0.6297429077168728\n",
      "\n",
      "Epoch 3\n",
      " train loss: 1.0455411323899544, train acc: 0.63849895538752\n",
      " val loss: 1.163172994775975, val acc: 0.605873226865809\n",
      "\n",
      "Epoch 4\n",
      " train loss: 1.0095266019840345, train acc: 0.6521733807471378\n",
      " val loss: 1.0856201346884382, val acc: 0.6220966312479466\n",
      "\n",
      "Epoch 5\n",
      " train loss: 0.9797831949193909, train acc: 0.6611141942754742\n",
      " val loss: 0.9779637955604715, val acc: 0.6643395390916378\n",
      "\n",
      "Epoch 6\n",
      " train loss: 0.9571651500365416, train acc: 0.6678881561298475\n",
      " val loss: 1.0169315875844753, val acc: 0.651529255319149\n",
      "\n",
      "Epoch 7\n",
      " train loss: 0.9457260686257204, train acc: 0.6734256659390939\n",
      " val loss: 1.0482716730300417, val acc: 0.6393838651636814\n",
      "\n",
      "Epoch 8\n",
      " train loss: 0.9306043168526463, train acc: 0.6754333703783791\n",
      " val loss: 0.9677317644687409, val acc: 0.6703457446808511\n",
      "\n",
      "Epoch 9\n",
      " train loss: 0.9096838919074706, train acc: 0.6850760642309729\n",
      " val loss: 0.9355672136266181, val acc: 0.6804078013338941\n",
      "\n",
      "Epoch 10\n",
      " train loss: 0.8129693877762371, train acc: 0.718231751125517\n",
      " val loss: 0.8768873136094276, val acc: 0.7010416667512123\n",
      "\n",
      "Epoch 11\n",
      " train loss: 0.7958132816951933, train acc: 0.724585400856827\n",
      " val loss: 0.8733572937072591, val acc: 0.7030806736743197\n",
      "\n",
      "Epoch 12\n",
      " train loss: 0.7906815847705444, train acc: 0.7267522525307901\n",
      " val loss: 0.8661766501183206, val acc: 0.7055851063829788\n",
      "\n",
      "Epoch 13\n",
      " train loss: 0.783831463380967, train acc: 0.7284457429671418\n",
      " val loss: 0.8650721192359925, val acc: 0.706405141759426\n",
      "\n",
      "Epoch 14\n",
      " train loss: 0.7811852719709685, train acc: 0.7313267171273937\n",
      " val loss: 0.8632792589512277, val acc: 0.7069592199427016\n",
      "\n",
      "Epoch 15\n",
      " train loss: 0.7692910377242665, train acc: 0.7352197049304816\n",
      " val loss: 0.8542593433501873, val acc: 0.7085106382978723\n",
      "\n",
      "Epoch 16\n",
      " train loss: 0.764750914610718, train acc: 0.7363908658079953\n",
      " val loss: 0.8567275689003315, val acc: 0.7102615247381494\n",
      "\n",
      "Epoch 17\n",
      " train loss: 0.7682774735434181, train acc: 0.7354033363802559\n",
      " val loss: 0.8576789589638406, val acc: 0.7088874114320634\n",
      "\n",
      "Epoch 18\n",
      " train loss: 0.7649464852413268, train acc: 0.7379007246856062\n",
      " val loss: 0.8572890007749517, val acc: 0.7125443263256803\n",
      "\n",
      "Epoch 19\n",
      " train loss: 0.7620152955299322, train acc: 0.7390759663564413\n",
      " val loss: 0.8537896881712244, val acc: 0.7116578013338941\n",
      "\n"
     ]
    }
   ],
   "source": [
    "transform = transforms.Compose(\n",
    "    [\n",
    "        transforms.ColorJitter(brightness=0.2,     # яркость\n",
    "                               contrast=0.2,       # контраст\n",
    "                               saturation=0.2,     # насыщ\n",
    "                               hue=0.1             # оттенок\n",
    "                               ),\n",
    "        transforms.ToTensor(),\n",
    "        transforms.Normalize((0.5, 0.5, 0.5), (0.5, 0.5, 0.5)),\n",
    "    ]\n",
    ")\n",
    "\n",
    "train_loader, val_loader, test_loader = get_cifar10_data(\n",
    "    batch_size=64, transform_train=transform\n",
    ")\n",
    "\n",
    "net = BasicBlockNet().to(device)\n",
    "optimizer = optim.SGD(net.parameters(), lr=0.1, momentum=0.9)\n",
    "scheduler = optim.lr_scheduler.MultiStepLR(optimizer, milestones=[10, 15], gamma=0.1)\n",
    "tr_loss_log, tr_acc_log, val_loss_log, val_acc_log = train(\n",
    "    net, optimizer, 20, train_loader, val_loader, scheduler\n",
    ")"
   ]
  },
  {
   "cell_type": "code",
   "execution_count": 19,
   "metadata": {},
   "outputs": [
    {
     "data": {
      "text/plain": [
       "(0.8447914495589627, 0.7155652866242038)"
      ]
     },
     "execution_count": 19,
     "metadata": {},
     "output_type": "execute_result"
    }
   ],
   "source": [
    "test(net, test_loader)"
   ]
  },
  {
   "cell_type": "markdown",
   "metadata": {},
   "source": [
    "Тоже есть маленький прирост"
   ]
  },
  {
   "cell_type": "markdown",
   "metadata": {},
   "source": [
    "**RandomResizedCrop**"
   ]
  },
  {
   "cell_type": "code",
   "execution_count": null,
   "metadata": {},
   "outputs": [
    {
     "name": "stdout",
     "output_type": "stream",
     "text": [
      "Epoch 0\n",
      " train loss: 1.5374396494581233, train acc: 0.45172123924251883\n",
      " val loss: 1.3142046826951048, val acc: 0.5286790780564572\n",
      "\n",
      "Epoch 1\n",
      " train loss: 1.253544947129063, train acc: 0.5605698288903593\n",
      " val loss: 1.1899137573039278, val acc: 0.5838209219435428\n",
      "\n",
      "Epoch 2\n",
      " train loss: 1.1298419172846639, train acc: 0.6068653695326183\n",
      " val loss: 1.1144240929725322, val acc: 0.6130762412192974\n",
      "\n",
      "Epoch 3\n",
      " train loss: 1.072745709249263, train acc: 0.6268199921961894\n",
      " val loss: 1.1558198299813778, val acc: 0.6065381204828303\n",
      "\n",
      "Epoch 4\n",
      " train loss: 1.0319299937602153, train acc: 0.6398537477148081\n",
      " val loss: 1.1121267914772033, val acc: 0.6125221630360218\n",
      "\n",
      "Epoch 5\n",
      " train loss: 1.002099822491571, train acc: 0.6495413293132398\n",
      " val loss: 1.0764169736111417, val acc: 0.6260195034615537\n",
      "\n",
      "Epoch 6\n",
      " train loss: 0.9783863343529989, train acc: 0.6581434447325126\n",
      " val loss: 0.9981371042576243, val acc: 0.6565381206096487\n",
      "\n",
      "Epoch 7\n",
      " train loss: 0.9617668882802374, train acc: 0.6652438626428845\n",
      " val loss: 1.007455421001353, val acc: 0.6515070922831272\n",
      "\n",
      "Epoch 8\n",
      " train loss: 0.952374248334651, train acc: 0.6680840297416534\n",
      " val loss: 0.9682971218799022, val acc: 0.664472517815042\n",
      "\n",
      "Epoch 9\n",
      " train loss: 0.9293495814368755, train acc: 0.6764902716580867\n",
      " val loss: 1.0648151557496253, val acc: 0.638984929120287\n",
      "\n",
      "Epoch 10\n",
      " train loss: 0.8348557446730857, train acc: 0.7110456385167905\n",
      " val loss: 0.8945013700647557, val acc: 0.6949911348363187\n",
      "\n",
      "Epoch 11\n",
      " train loss: 0.8186016478856695, train acc: 0.7188642595978062\n",
      " val loss: 0.8879985885417208, val acc: 0.6981604609083623\n",
      "\n",
      "Epoch 12\n",
      " train loss: 0.8141720526506085, train acc: 0.7181501371115173\n",
      " val loss: 0.8870162215638668, val acc: 0.6977393617021277\n",
      "\n",
      "Epoch 13\n",
      " train loss: 0.8122814413725349, train acc: 0.721949268738574\n",
      " val loss: 0.8814389883203709, val acc: 0.6987367021276596\n",
      "\n",
      "Epoch 14\n",
      " train loss: 0.803431514357736, train acc: 0.7212718725204468\n",
      " val loss: 0.8863872715767394, val acc: 0.6964539007937655\n",
      "\n",
      "Epoch 15\n",
      " train loss: 0.7917118812391919, train acc: 0.7280988834893681\n",
      " val loss: 0.8743253286848677, val acc: 0.6990248226104898\n",
      "\n",
      "Epoch 16\n",
      " train loss: 0.7872360018533152, train acc: 0.7278295573412391\n",
      " val loss: 0.8750285029411315, val acc: 0.6989804965384463\n",
      "\n",
      "Epoch 17\n",
      " train loss: 0.7889582836213888, train acc: 0.7282213045648509\n",
      " val loss: 0.8778300883922171, val acc: 0.6967198582405739\n",
      "\n",
      "Epoch 18\n",
      " train loss: 0.7871834981703018, train acc: 0.7280417536904651\n",
      " val loss: 0.8764160967887716, val acc: 0.6970523050490846\n",
      "\n",
      "Epoch 19\n",
      " train loss: 0.7895969271768818, train acc: 0.727201129553305\n",
      " val loss: 0.8719454694301524, val acc: 0.6986923758019792\n",
      "\n"
     ]
    }
   ],
   "source": [
    "transform = transforms.Compose(\n",
    "    [\n",
    "        transforms.RandomResizedCrop(size=32,            # выходной размер\n",
    "                                     scale=(0.8,1.0),    # обл вырезки\n",
    "                                     ratio=(0.9,1.1)     # соотношение сторон\n",
    "                                     ),\n",
    "        transforms.ToTensor(),\n",
    "        transforms.Normalize((0.5, 0.5, 0.5), (0.5, 0.5, 0.5)),\n",
    "    ]\n",
    ")\n",
    "\n",
    "train_loader, val_loader, test_loader = get_cifar10_data(\n",
    "    batch_size=64, transform_train=transform\n",
    ")\n",
    "\n",
    "net = BasicBlockNet().to(device)\n",
    "optimizer = optim.SGD(net.parameters(), lr=0.1, momentum=0.9)\n",
    "scheduler = optim.lr_scheduler.MultiStepLR(optimizer, milestones=[10, 15], gamma=0.1)\n",
    "tr_loss_log, tr_acc_log, val_loss_log, val_acc_log = train(\n",
    "    net, optimizer, 20, train_loader, val_loader, scheduler\n",
    ")"
   ]
  },
  {
   "cell_type": "code",
   "execution_count": 21,
   "metadata": {},
   "outputs": [
    {
     "data": {
      "text/plain": [
       "(0.9032052345336623, 0.6948646496815286)"
      ]
     },
     "execution_count": 21,
     "metadata": {},
     "output_type": "execute_result"
    }
   ],
   "source": [
    "test(net, test_loader) "
   ]
  },
  {
   "cell_type": "markdown",
   "metadata": {},
   "source": [
    "Все вместе"
   ]
  },
  {
   "cell_type": "code",
   "execution_count": null,
   "metadata": {},
   "outputs": [
    {
     "name": "stdout",
     "output_type": "stream",
     "text": [
      "Epoch 0\n",
      " train loss: 1.742808804651501, train acc: 0.3707397492973635\n",
      " val loss: 1.6165930250857738, val acc: 0.4241578014607125\n",
      "\n",
      "Epoch 1\n",
      " train loss: 1.5051778960271553, train acc: 0.4644285387596221\n",
      " val loss: 1.437375286792187, val acc: 0.4904476950777338\n",
      "\n",
      "Epoch 2\n",
      " train loss: 1.3981703102479688, train acc: 0.5059904674616331\n",
      " val loss: 1.4033719894733834, val acc: 0.49765070930440375\n",
      "\n",
      "Epoch 3\n",
      " train loss: 1.3436215142881194, train acc: 0.5236517367458866\n",
      " val loss: 1.492962806782824, val acc: 0.4926640070499258\n",
      "\n",
      "Epoch 4\n",
      " train loss: 1.2989730098347778, train acc: 0.541308925291302\n",
      " val loss: 1.3476361193555466, val acc: 0.5335992908224146\n",
      "\n",
      "Epoch 5\n",
      " train loss: 1.2714934286949187, train acc: 0.5502170932358318\n",
      " val loss: 1.262855351985769, val acc: 0.5533687942839683\n",
      "\n",
      "Epoch 6\n",
      " train loss: 1.2410860769927392, train acc: 0.5621245756227747\n",
      " val loss: 1.211118757471125, val acc: 0.5740691489361702\n",
      "\n",
      "Epoch 7\n",
      " train loss: 1.2350294890743723, train acc: 0.5662011948756369\n",
      " val loss: 1.2961018922481131, val acc: 0.550908688027808\n",
      "\n",
      "Epoch 8\n",
      " train loss: 1.2169948851168702, train acc: 0.5720896448470121\n",
      " val loss: 1.2211282349647359, val acc: 0.5738696808510638\n",
      "\n",
      "Epoch 9\n",
      " train loss: 1.1931303209970812, train acc: 0.5804509989086409\n",
      " val loss: 1.3179434023004897, val acc: 0.5488253545253835\n",
      "\n",
      "Epoch 10\n",
      " train loss: 1.108723187359421, train acc: 0.6135781209037334\n",
      " val loss: 1.0948784627812973, val acc: 0.6208998226104898\n",
      "\n",
      "Epoch 11\n",
      " train loss: 1.0937831126139848, train acc: 0.6201194828781393\n",
      " val loss: 1.0827050460145828, val acc: 0.6234264183551708\n",
      "\n",
      "Epoch 12\n",
      " train loss: 1.08552253104651, train acc: 0.6192788587409792\n",
      " val loss: 1.0964556133493464, val acc: 0.6193705672913409\n",
      "\n",
      "Epoch 13\n",
      " train loss: 1.0744426582805418, train acc: 0.6257018804332238\n",
      " val loss: 1.0709761305058256, val acc: 0.6290780140998515\n",
      "\n",
      "Epoch 14\n",
      " train loss: 1.0725865032816717, train acc: 0.6254529577068698\n",
      " val loss: 1.0747881491133506, val acc: 0.6249778369639782\n",
      "\n",
      "Epoch 15\n",
      " train loss: 1.0672231755701236, train acc: 0.6272362235259312\n",
      " val loss: 1.0606745861946267, val acc: 0.6310283688788718\n",
      "\n",
      "Epoch 16\n",
      " train loss: 1.059812398671668, train acc: 0.6331818032962094\n",
      " val loss: 1.0640210319072643, val acc: 0.6318040779296388\n",
      "\n",
      "Epoch 17\n",
      " train loss: 1.061074097370099, train acc: 0.6290684577751857\n",
      " val loss: 1.0599111080169679, val acc: 0.6314051417594261\n",
      "\n",
      "Epoch 18\n",
      " train loss: 1.0624599710678924, train acc: 0.6329859297933701\n",
      " val loss: 1.059505623452207, val acc: 0.6325576241980208\n",
      "\n",
      "Epoch 19\n",
      " train loss: 1.0612686655639076, train acc: 0.6312761165106319\n",
      " val loss: 1.0612885201230962, val acc: 0.6267730497299356\n",
      "\n"
     ]
    }
   ],
   "source": [
    "transform = transforms.Compose(\n",
    "    [\n",
    "        transforms.RandomHorizontalFlip(),\n",
    "\n",
    "        transforms.RandomAffine(degrees=10,          # поворот (градусы)\n",
    "                                translate=(0.1,0.1), # сдвиг по осям\n",
    "                                scale=(0.9,1.1)      # масштаб \n",
    "                                ),\n",
    "\n",
    "        transforms.ColorJitter(brightness=0.2,     # яркость\n",
    "                               contrast=0.2,       # контраст\n",
    "                               saturation=0.2,     # насыщ\n",
    "                               hue=0.1             # оттенок\n",
    "                               ),\n",
    "                               \n",
    "        transforms.RandomResizedCrop(size=32,            # выходной размер\n",
    "                                     scale=(0.8,1.0),    # обл вырезки\n",
    "                                     ratio=(0.9,1.1)     # соотношение сторон\n",
    "                                     ),\n",
    "        transforms.ToTensor(),\n",
    "        transforms.Normalize((0.5, 0.5, 0.5), (0.5, 0.5, 0.5)),\n",
    "    ]\n",
    ")\n",
    "\n",
    "train_loader, val_loader, test_loader = get_cifar10_data(\n",
    "    batch_size=64, transform_train=transform\n",
    ")\n",
    "\n",
    "net = BasicBlockNet().to(device)\n",
    "optimizer = optim.SGD(net.parameters(), lr=0.1, momentum=0.9)\n",
    "scheduler = optim.lr_scheduler.MultiStepLR(optimizer, milestones=[10, 15], gamma=0.1)\n",
    "tr_loss_log, tr_acc_log, val_loss_log, val_acc_log = train(\n",
    "    net, optimizer, 20, train_loader, val_loader, scheduler\n",
    ")"
   ]
  },
  {
   "cell_type": "code",
   "execution_count": 24,
   "metadata": {},
   "outputs": [
    {
     "data": {
      "text/plain": [
       "(0.9834175846379274, 0.6628184713375797)"
      ]
     },
     "execution_count": 24,
     "metadata": {},
     "output_type": "execute_result"
    }
   ],
   "source": [
    "test(net, test_loader)"
   ]
  },
  {
   "cell_type": "markdown",
   "metadata": {},
   "source": [
    "Без RandomResizedCrop"
   ]
  },
  {
   "cell_type": "code",
   "execution_count": 25,
   "metadata": {},
   "outputs": [
    {
     "name": "stdout",
     "output_type": "stream",
     "text": [
      "Epoch 0\n",
      " train loss: 1.6966175457677195, train acc: 0.3868585139567499\n",
      " val loss: 1.50298427622369, val acc: 0.46081560279460665\n",
      "\n",
      "Epoch 1\n",
      " train loss: 1.4604555048062118, train acc: 0.47891502352039816\n",
      " val loss: 1.3375572544463137, val acc: 0.5251329787234043\n",
      "\n",
      "Epoch 2\n",
      " train loss: 1.323914851414438, train acc: 0.5334168516739631\n",
      " val loss: 1.3422488486513178, val acc: 0.5357269503968827\n",
      "\n",
      "Epoch 3\n",
      " train loss: 1.2580280575281524, train acc: 0.5583336053644281\n",
      " val loss: 1.2172004811307218, val acc: 0.5733820921563088\n",
      "\n",
      "Epoch 4\n",
      " train loss: 1.2137161745013876, train acc: 0.5725793288220435\n",
      " val loss: 1.238513580028047, val acc: 0.5651374114320633\n",
      "\n",
      "Epoch 5\n",
      " train loss: 1.1809113818940995, train acc: 0.5851070775192442\n",
      " val loss: 1.1994226549534088, val acc: 0.5836657801841167\n",
      "\n",
      "Epoch 6\n",
      " train loss: 1.159939607384, train acc: 0.5927910354717122\n",
      " val loss: 1.1187368349826081, val acc: 0.6105496454746165\n",
      "\n",
      "Epoch 7\n",
      " train loss: 1.1506524274510483, train acc: 0.5970390441212837\n",
      " val loss: 1.204927516490855, val acc: 0.5802969859001484\n",
      "\n",
      "Epoch 8\n",
      " train loss: 1.1253038423588768, train acc: 0.6053391878086208\n",
      " val loss: 1.1502408882404895, val acc: 0.6027925531914894\n",
      "\n",
      "Epoch 9\n",
      " train loss: 1.1111860034452714, train acc: 0.6107583572267397\n",
      " val loss: 1.1456611219872819, val acc: 0.6021498226104899\n",
      "\n",
      "Epoch 10\n",
      " train loss: 1.029406157010652, train acc: 0.6414574627684501\n",
      " val loss: 1.0138836325483118, val acc: 0.6461436170212767\n",
      "\n",
      "Epoch 11\n",
      " train loss: 1.0066170509380221, train acc: 0.6493005680645624\n",
      " val loss: 1.0103089723181218, val acc: 0.648936170212766\n",
      "\n",
      "Epoch 12\n",
      " train loss: 1.0053474133803597, train acc: 0.6496188626428845\n",
      " val loss: 1.024784387933447, val acc: 0.6404033688788718\n",
      "\n",
      "Epoch 13\n",
      " train loss: 1.0008847360419182, train acc: 0.6531813137056187\n",
      " val loss: 0.9908181576018638, val acc: 0.6577127659574468\n",
      "\n",
      "Epoch 14\n",
      " train loss: 0.997498537221382, train acc: 0.6510103813473006\n",
      " val loss: 1.00191222074184, val acc: 0.652748226865809\n",
      "\n",
      "Epoch 15\n",
      " train loss: 0.9863344571490175, train acc: 0.65837604461248\n",
      " val loss: 0.9834508619409926, val acc: 0.6566710992062346\n",
      "\n",
      "Epoch 16\n",
      " train loss: 0.9825263174839822, train acc: 0.6587596304673817\n",
      " val loss: 0.9856143289424003, val acc: 0.6594193263256803\n",
      "\n",
      "Epoch 17\n",
      " train loss: 0.979148446205983, train acc: 0.6604490402193784\n",
      " val loss: 0.9835707492016731, val acc: 0.659530141759426\n",
      "\n",
      "Epoch 18\n",
      " train loss: 0.9767678867092516, train acc: 0.6615753133510541\n",
      " val loss: 0.988839155055107, val acc: 0.6619237587807026\n",
      "\n",
      "Epoch 19\n",
      " train loss: 0.9773714338621666, train acc: 0.6614732959152794\n",
      " val loss: 0.9874741795215201, val acc: 0.6535460992062345\n",
      "\n"
     ]
    }
   ],
   "source": [
    "transform = transforms.Compose(\n",
    "    [\n",
    "        transforms.RandomHorizontalFlip(),\n",
    "\n",
    "        transforms.RandomAffine(degrees=10,          # поворот (градусы)\n",
    "                                translate=(0.1,0.1), # сдвиг по осям\n",
    "                                scale=(0.9,1.1)      # масштаб \n",
    "                                ),\n",
    "\n",
    "        transforms.ColorJitter(brightness=0.2,     # яркость\n",
    "                               contrast=0.2,       # контраст\n",
    "                               saturation=0.2,     # насыщ\n",
    "                               hue=0.1             # оттенок\n",
    "                               ),\n",
    "                               \n",
    "        transforms.ToTensor(),\n",
    "        transforms.Normalize((0.5, 0.5, 0.5), (0.5, 0.5, 0.5)),\n",
    "    ]\n",
    ")\n",
    "\n",
    "train_loader, val_loader, test_loader = get_cifar10_data(\n",
    "    batch_size=64, transform_train=transform\n",
    ")\n",
    "\n",
    "net = BasicBlockNet().to(device)\n",
    "optimizer = optim.SGD(net.parameters(), lr=0.1, momentum=0.9)\n",
    "scheduler = optim.lr_scheduler.MultiStepLR(optimizer, milestones=[10, 15], gamma=0.1)\n",
    "tr_loss_log, tr_acc_log, val_loss_log, val_acc_log = train(\n",
    "    net, optimizer, 20, train_loader, val_loader, scheduler\n",
    ")"
   ]
  },
  {
   "cell_type": "code",
   "execution_count": 26,
   "metadata": {},
   "outputs": [
    {
     "data": {
      "text/plain": [
       "(0.870791773887197, 0.7047173566878981)"
      ]
     },
     "execution_count": 26,
     "metadata": {},
     "output_type": "execute_result"
    }
   ],
   "source": [
    "test(net, test_loader)"
   ]
  },
  {
   "cell_type": "markdown",
   "metadata": {
    "id": "4K-MptLiO9Dv",
    "pycharm": {
     "name": "#%% md\n"
    }
   },
   "source": [
    "Только горизонтальный поворот дал наилучший прирост. Лучшее accuracy - 72.4%"
   ]
  },
  {
   "cell_type": "markdown",
   "metadata": {
    "id": "HCENjLw5O9Dv",
    "pycharm": {
     "name": "#%% md\n"
    }
   },
   "source": [
    "## Бонус. Логирование в wandb (1 балл)"
   ]
  },
  {
   "cell_type": "markdown",
   "metadata": {
    "id": "xOyzc1mnO9Dv",
    "pycharm": {
     "name": "#%% md\n"
    }
   },
   "source": [
    "На практике специалиста по глубинному обучению часто встречаются ситуации, когда нейросеть учится на каком-то удаленном сервере. И обычно вам хочется отслеживать прогресс обучения, особенно когда время обучения модели исчисляется днями или неделями. Для таких целей существует несколько инструментов. Вероятно, самый популярный из них — [wandb](https://wandb.ai/site).\n",
    "\n",
    "Ваша задача состоит в том, чтобы разобраться как им пользоваться, и повторить задания 2.1 и 2.2 с его использованием. Обучение вы можете запускать в этом же ноутбуке, но теперь вам необходимо через wandb логировать значения функции потерь и точности на обучающей выборке и на валидационной. Результатом работы должны быть ваш код и публичная ссылка на страничку с графиками, идентичными графикам в задании 2.2.\n",
    "\n",
    "Если вас смущает, что WandB грозится забанить вас, то можете разобраться с любым его аналогом и приложить ссылку на аналог."
   ]
  },
  {
   "cell_type": "code",
   "execution_count": null,
   "metadata": {
    "id": "m5gSTLAr_QS4",
    "pycharm": {
     "name": "#%%\n"
    }
   },
   "outputs": [],
   "source": [
    "# <your code here>"
   ]
  }
 ],
 "metadata": {
  "accelerator": "GPU",
  "colab": {
   "collapsed_sections": [],
   "provenance": []
  },
  "kernelspec": {
   "display_name": "Python 3",
   "language": "python",
   "name": "python3"
  },
  "language_info": {
   "codemirror_mode": {
    "name": "ipython",
    "version": 3
   },
   "file_extension": ".py",
   "mimetype": "text/x-python",
   "name": "python",
   "nbconvert_exporter": "python",
   "pygments_lexer": "ipython3",
   "version": "3.12.9"
  },
  "widgets": {
   "application/vnd.jupyter.widget-state+json": {
    "0fee9f5b7bdb4129a71ef0cfe9d3b1fa": {
     "model_module": "@jupyter-widgets/controls",
     "model_module_version": "1.5.0",
     "model_name": "ProgressStyleModel",
     "state": {
      "_model_module": "@jupyter-widgets/controls",
      "_model_module_version": "1.5.0",
      "_model_name": "ProgressStyleModel",
      "_view_count": null,
      "_view_module": "@jupyter-widgets/base",
      "_view_module_version": "1.2.0",
      "_view_name": "StyleView",
      "bar_color": null,
      "description_width": ""
     }
    },
    "17b2be81159e41f1a5c6bb966516572e": {
     "model_module": "@jupyter-widgets/base",
     "model_module_version": "1.2.0",
     "model_name": "LayoutModel",
     "state": {
      "_model_module": "@jupyter-widgets/base",
      "_model_module_version": "1.2.0",
      "_model_name": "LayoutModel",
      "_view_count": null,
      "_view_module": "@jupyter-widgets/base",
      "_view_module_version": "1.2.0",
      "_view_name": "LayoutView",
      "align_content": null,
      "align_items": null,
      "align_self": null,
      "border": null,
      "bottom": null,
      "display": null,
      "flex": null,
      "flex_flow": null,
      "grid_area": null,
      "grid_auto_columns": null,
      "grid_auto_flow": null,
      "grid_auto_rows": null,
      "grid_column": null,
      "grid_gap": null,
      "grid_row": null,
      "grid_template_areas": null,
      "grid_template_columns": null,
      "grid_template_rows": null,
      "height": null,
      "justify_content": null,
      "justify_items": null,
      "left": null,
      "margin": null,
      "max_height": null,
      "max_width": null,
      "min_height": null,
      "min_width": null,
      "object_fit": null,
      "object_position": null,
      "order": null,
      "overflow": null,
      "overflow_x": null,
      "overflow_y": null,
      "padding": null,
      "right": null,
      "top": null,
      "visibility": null,
      "width": null
     }
    },
    "18b20091dbf64b129824a8fb3266e3c0": {
     "model_module": "@jupyter-widgets/controls",
     "model_module_version": "1.5.0",
     "model_name": "DescriptionStyleModel",
     "state": {
      "_model_module": "@jupyter-widgets/controls",
      "_model_module_version": "1.5.0",
      "_model_name": "DescriptionStyleModel",
      "_view_count": null,
      "_view_module": "@jupyter-widgets/base",
      "_view_module_version": "1.2.0",
      "_view_name": "StyleView",
      "description_width": ""
     }
    },
    "22bb21a6c57a413fb7374efe31349e6e": {
     "model_module": "@jupyter-widgets/base",
     "model_module_version": "1.2.0",
     "model_name": "LayoutModel",
     "state": {
      "_model_module": "@jupyter-widgets/base",
      "_model_module_version": "1.2.0",
      "_model_name": "LayoutModel",
      "_view_count": null,
      "_view_module": "@jupyter-widgets/base",
      "_view_module_version": "1.2.0",
      "_view_name": "LayoutView",
      "align_content": null,
      "align_items": null,
      "align_self": null,
      "border": null,
      "bottom": null,
      "display": null,
      "flex": null,
      "flex_flow": null,
      "grid_area": null,
      "grid_auto_columns": null,
      "grid_auto_flow": null,
      "grid_auto_rows": null,
      "grid_column": null,
      "grid_gap": null,
      "grid_row": null,
      "grid_template_areas": null,
      "grid_template_columns": null,
      "grid_template_rows": null,
      "height": null,
      "justify_content": null,
      "justify_items": null,
      "left": null,
      "margin": null,
      "max_height": null,
      "max_width": null,
      "min_height": null,
      "min_width": null,
      "object_fit": null,
      "object_position": null,
      "order": null,
      "overflow": null,
      "overflow_x": null,
      "overflow_y": null,
      "padding": null,
      "right": null,
      "top": null,
      "visibility": null,
      "width": null
     }
    },
    "7d238166caf64537ad9aa2040dcdc1ec": {
     "model_module": "@jupyter-widgets/controls",
     "model_module_version": "1.5.0",
     "model_name": "DescriptionStyleModel",
     "state": {
      "_model_module": "@jupyter-widgets/controls",
      "_model_module_version": "1.5.0",
      "_model_name": "DescriptionStyleModel",
      "_view_count": null,
      "_view_module": "@jupyter-widgets/base",
      "_view_module_version": "1.2.0",
      "_view_name": "StyleView",
      "description_width": ""
     }
    },
    "95c5696493db48738dbdc9940acec1d8": {
     "model_module": "@jupyter-widgets/controls",
     "model_module_version": "1.5.0",
     "model_name": "HTMLModel",
     "state": {
      "_dom_classes": [],
      "_model_module": "@jupyter-widgets/controls",
      "_model_module_version": "1.5.0",
      "_model_name": "HTMLModel",
      "_view_count": null,
      "_view_module": "@jupyter-widgets/controls",
      "_view_module_version": "1.5.0",
      "_view_name": "HTMLView",
      "description": "",
      "description_tooltip": null,
      "layout": "IPY_MODEL_22bb21a6c57a413fb7374efe31349e6e",
      "placeholder": "​",
      "style": "IPY_MODEL_18b20091dbf64b129824a8fb3266e3c0",
      "value": "100%"
     }
    },
    "9bad0d6a00c14229b0d776a2cfe15090": {
     "model_module": "@jupyter-widgets/base",
     "model_module_version": "1.2.0",
     "model_name": "LayoutModel",
     "state": {
      "_model_module": "@jupyter-widgets/base",
      "_model_module_version": "1.2.0",
      "_model_name": "LayoutModel",
      "_view_count": null,
      "_view_module": "@jupyter-widgets/base",
      "_view_module_version": "1.2.0",
      "_view_name": "LayoutView",
      "align_content": null,
      "align_items": null,
      "align_self": null,
      "border": null,
      "bottom": null,
      "display": null,
      "flex": null,
      "flex_flow": null,
      "grid_area": null,
      "grid_auto_columns": null,
      "grid_auto_flow": null,
      "grid_auto_rows": null,
      "grid_column": null,
      "grid_gap": null,
      "grid_row": null,
      "grid_template_areas": null,
      "grid_template_columns": null,
      "grid_template_rows": null,
      "height": null,
      "justify_content": null,
      "justify_items": null,
      "left": null,
      "margin": null,
      "max_height": null,
      "max_width": null,
      "min_height": null,
      "min_width": null,
      "object_fit": null,
      "object_position": null,
      "order": null,
      "overflow": null,
      "overflow_x": null,
      "overflow_y": null,
      "padding": null,
      "right": null,
      "top": null,
      "visibility": null,
      "width": null
     }
    },
    "aa9da821ba0c42b5b051355e50e691f0": {
     "model_module": "@jupyter-widgets/controls",
     "model_module_version": "1.5.0",
     "model_name": "HBoxModel",
     "state": {
      "_dom_classes": [],
      "_model_module": "@jupyter-widgets/controls",
      "_model_module_version": "1.5.0",
      "_model_name": "HBoxModel",
      "_view_count": null,
      "_view_module": "@jupyter-widgets/controls",
      "_view_module_version": "1.5.0",
      "_view_name": "HBoxView",
      "box_style": "",
      "children": [
       "IPY_MODEL_95c5696493db48738dbdc9940acec1d8",
       "IPY_MODEL_fe515a1f743f49d0b251b43919d52a8e",
       "IPY_MODEL_f4f339c969fd4e21bc683ecb2567897b"
      ],
      "layout": "IPY_MODEL_17b2be81159e41f1a5c6bb966516572e"
     }
    },
    "cd991379661b4b4ab405bf66f75c6834": {
     "model_module": "@jupyter-widgets/base",
     "model_module_version": "1.2.0",
     "model_name": "LayoutModel",
     "state": {
      "_model_module": "@jupyter-widgets/base",
      "_model_module_version": "1.2.0",
      "_model_name": "LayoutModel",
      "_view_count": null,
      "_view_module": "@jupyter-widgets/base",
      "_view_module_version": "1.2.0",
      "_view_name": "LayoutView",
      "align_content": null,
      "align_items": null,
      "align_self": null,
      "border": null,
      "bottom": null,
      "display": null,
      "flex": null,
      "flex_flow": null,
      "grid_area": null,
      "grid_auto_columns": null,
      "grid_auto_flow": null,
      "grid_auto_rows": null,
      "grid_column": null,
      "grid_gap": null,
      "grid_row": null,
      "grid_template_areas": null,
      "grid_template_columns": null,
      "grid_template_rows": null,
      "height": null,
      "justify_content": null,
      "justify_items": null,
      "left": null,
      "margin": null,
      "max_height": null,
      "max_width": null,
      "min_height": null,
      "min_width": null,
      "object_fit": null,
      "object_position": null,
      "order": null,
      "overflow": null,
      "overflow_x": null,
      "overflow_y": null,
      "padding": null,
      "right": null,
      "top": null,
      "visibility": null,
      "width": null
     }
    },
    "f4f339c969fd4e21bc683ecb2567897b": {
     "model_module": "@jupyter-widgets/controls",
     "model_module_version": "1.5.0",
     "model_name": "HTMLModel",
     "state": {
      "_dom_classes": [],
      "_model_module": "@jupyter-widgets/controls",
      "_model_module_version": "1.5.0",
      "_model_name": "HTMLModel",
      "_view_count": null,
      "_view_module": "@jupyter-widgets/controls",
      "_view_module_version": "1.5.0",
      "_view_name": "HTMLView",
      "description": "",
      "description_tooltip": null,
      "layout": "IPY_MODEL_cd991379661b4b4ab405bf66f75c6834",
      "placeholder": "​",
      "style": "IPY_MODEL_7d238166caf64537ad9aa2040dcdc1ec",
      "value": " 170498071/170498071 [00:13&lt;00:00, 13339884.37it/s]"
     }
    },
    "fe515a1f743f49d0b251b43919d52a8e": {
     "model_module": "@jupyter-widgets/controls",
     "model_module_version": "1.5.0",
     "model_name": "FloatProgressModel",
     "state": {
      "_dom_classes": [],
      "_model_module": "@jupyter-widgets/controls",
      "_model_module_version": "1.5.0",
      "_model_name": "FloatProgressModel",
      "_view_count": null,
      "_view_module": "@jupyter-widgets/controls",
      "_view_module_version": "1.5.0",
      "_view_name": "ProgressView",
      "bar_style": "success",
      "description": "",
      "description_tooltip": null,
      "layout": "IPY_MODEL_9bad0d6a00c14229b0d776a2cfe15090",
      "max": 170498071,
      "min": 0,
      "orientation": "horizontal",
      "style": "IPY_MODEL_0fee9f5b7bdb4129a71ef0cfe9d3b1fa",
      "value": 170498071
     }
    }
   }
  }
 },
 "nbformat": 4,
 "nbformat_minor": 1
}
